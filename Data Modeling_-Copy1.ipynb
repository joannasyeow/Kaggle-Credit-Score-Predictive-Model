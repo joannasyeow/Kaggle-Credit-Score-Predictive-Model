{
 "cells": [
  {
   "cell_type": "markdown",
   "metadata": {},
   "source": [
    "# Feature Selection & Modelling"
   ]
  },
  {
   "cell_type": "markdown",
   "metadata": {},
   "source": [
    "In this notebook, I will be using decision tree to identify the feature importance and use them as weights for the columns."
   ]
  },
  {
   "cell_type": "code",
   "execution_count": 22,
   "metadata": {
    "collapsed": true
   },
   "outputs": [],
   "source": [
    "# Base\n",
    "import pandas as pd\n",
    "import numpy as np\n",
    "\n",
    "# Model\n",
    "from sklearn.linear_model import LogisticRegressionCV\n",
    "from sklearn.tree import DecisionTreeClassifier\n",
    "from sklearn.ensemble import RandomForestClassifier\n",
    "from sklearn.svm import SVC\n",
    "from sklearn.model_selection import GridSearchCV\n",
    "from sklearn.externals import joblib\n",
    "\n",
    "%config InlineBackend.figure_format = 'retina'\n",
    "%matplotlib inline"
   ]
  },
  {
   "cell_type": "code",
   "execution_count": 5,
   "metadata": {
    "collapsed": true
   },
   "outputs": [],
   "source": [
    "training = pd.read_pickle('eda_training.pickle')\n",
    "test = pd.read_pickle('eda_test.pickle')\n",
    "data_dict = pd.read_pickle('data_dict.pickle')"
   ]
  },
  {
   "cell_type": "code",
   "execution_count": 6,
   "metadata": {},
   "outputs": [
    {
     "data": {
      "text/html": [
       "<div>\n",
       "<style scoped>\n",
       "    .dataframe tbody tr th:only-of-type {\n",
       "        vertical-align: middle;\n",
       "    }\n",
       "\n",
       "    .dataframe tbody tr th {\n",
       "        vertical-align: top;\n",
       "    }\n",
       "\n",
       "    .dataframe thead th {\n",
       "        text-align: right;\n",
       "    }\n",
       "</style>\n",
       "<table border=\"1\" class=\"dataframe\">\n",
       "  <thead>\n",
       "    <tr style=\"text-align: right;\">\n",
       "      <th></th>\n",
       "      <th>Variable Name</th>\n",
       "      <th>Description</th>\n",
       "      <th>Type</th>\n",
       "      <th>New Column Names</th>\n",
       "    </tr>\n",
       "  </thead>\n",
       "  <tbody>\n",
       "    <tr>\n",
       "      <th>0</th>\n",
       "      <td>SeriousDlqin2yrs</td>\n",
       "      <td>Person experienced 90 days past due delinquenc...</td>\n",
       "      <td>Y/N</td>\n",
       "      <td>dlq</td>\n",
       "    </tr>\n",
       "    <tr>\n",
       "      <th>1</th>\n",
       "      <td>RevolvingUtilizationOfUnsecuredLines</td>\n",
       "      <td>Total balance on credit cards and personal lin...</td>\n",
       "      <td>percentage</td>\n",
       "      <td>util_ratio</td>\n",
       "    </tr>\n",
       "    <tr>\n",
       "      <th>2</th>\n",
       "      <td>age</td>\n",
       "      <td>Age of borrower in years</td>\n",
       "      <td>integer</td>\n",
       "      <td>age</td>\n",
       "    </tr>\n",
       "    <tr>\n",
       "      <th>3</th>\n",
       "      <td>NumberOfTime30-59DaysPastDueNotWorse</td>\n",
       "      <td>Number of times borrower has been 30-59 days p...</td>\n",
       "      <td>integer</td>\n",
       "      <td>ph_30to59</td>\n",
       "    </tr>\n",
       "    <tr>\n",
       "      <th>4</th>\n",
       "      <td>DebtRatio</td>\n",
       "      <td>Monthly debt payments, alimony,living costs di...</td>\n",
       "      <td>percentage</td>\n",
       "      <td>debtratio</td>\n",
       "    </tr>\n",
       "    <tr>\n",
       "      <th>5</th>\n",
       "      <td>MonthlyIncome</td>\n",
       "      <td>Monthly income</td>\n",
       "      <td>real</td>\n",
       "      <td>monthlyincome</td>\n",
       "    </tr>\n",
       "    <tr>\n",
       "      <th>6</th>\n",
       "      <td>NumberOfOpenCreditLinesAndLoans</td>\n",
       "      <td>Number of Open loans (installment like car loa...</td>\n",
       "      <td>integer</td>\n",
       "      <td>open_credit_loans</td>\n",
       "    </tr>\n",
       "    <tr>\n",
       "      <th>7</th>\n",
       "      <td>NumberOfTimes90DaysLate</td>\n",
       "      <td>Number of times borrower has been 90 days or m...</td>\n",
       "      <td>integer</td>\n",
       "      <td>ph_90</td>\n",
       "    </tr>\n",
       "    <tr>\n",
       "      <th>8</th>\n",
       "      <td>NumberRealEstateLoansOrLines</td>\n",
       "      <td>Number of mortgage and real estate loans inclu...</td>\n",
       "      <td>integer</td>\n",
       "      <td>realestate_lines</td>\n",
       "    </tr>\n",
       "    <tr>\n",
       "      <th>9</th>\n",
       "      <td>NumberOfTime60-89DaysPastDueNotWorse</td>\n",
       "      <td>Number of times borrower has been 60-89 days p...</td>\n",
       "      <td>integer</td>\n",
       "      <td>ph_60to89</td>\n",
       "    </tr>\n",
       "    <tr>\n",
       "      <th>10</th>\n",
       "      <td>NumberOfDependents</td>\n",
       "      <td>Number of dependents in family excluding thems...</td>\n",
       "      <td>integer</td>\n",
       "      <td>dependents</td>\n",
       "    </tr>\n",
       "  </tbody>\n",
       "</table>\n",
       "</div>"
      ],
      "text/plain": [
       "                           Variable Name  \\\n",
       "0                       SeriousDlqin2yrs   \n",
       "1   RevolvingUtilizationOfUnsecuredLines   \n",
       "2                                    age   \n",
       "3   NumberOfTime30-59DaysPastDueNotWorse   \n",
       "4                              DebtRatio   \n",
       "5                          MonthlyIncome   \n",
       "6        NumberOfOpenCreditLinesAndLoans   \n",
       "7                NumberOfTimes90DaysLate   \n",
       "8           NumberRealEstateLoansOrLines   \n",
       "9   NumberOfTime60-89DaysPastDueNotWorse   \n",
       "10                    NumberOfDependents   \n",
       "\n",
       "                                          Description        Type  \\\n",
       "0   Person experienced 90 days past due delinquenc...         Y/N   \n",
       "1   Total balance on credit cards and personal lin...  percentage   \n",
       "2                            Age of borrower in years     integer   \n",
       "3   Number of times borrower has been 30-59 days p...     integer   \n",
       "4   Monthly debt payments, alimony,living costs di...  percentage   \n",
       "5                                      Monthly income        real   \n",
       "6   Number of Open loans (installment like car loa...     integer   \n",
       "7   Number of times borrower has been 90 days or m...     integer   \n",
       "8   Number of mortgage and real estate loans inclu...     integer   \n",
       "9   Number of times borrower has been 60-89 days p...     integer   \n",
       "10  Number of dependents in family excluding thems...     integer   \n",
       "\n",
       "     New Column Names  \n",
       "0                 dlq  \n",
       "1          util_ratio  \n",
       "2                 age  \n",
       "3           ph_30to59  \n",
       "4           debtratio  \n",
       "5       monthlyincome  \n",
       "6   open_credit_loans  \n",
       "7               ph_90  \n",
       "8    realestate_lines  \n",
       "9           ph_60to89  \n",
       "10         dependents  "
      ]
     },
     "execution_count": 6,
     "metadata": {},
     "output_type": "execute_result"
    }
   ],
   "source": [
    "data_dict"
   ]
  },
  {
   "cell_type": "code",
   "execution_count": 7,
   "metadata": {
    "collapsed": true
   },
   "outputs": [],
   "source": [
    "X = training.drop('dlq',axis=1)\n",
    "y = training['dlq']"
   ]
  },
  {
   "cell_type": "code",
   "execution_count": 8,
   "metadata": {
    "collapsed": true
   },
   "outputs": [],
   "source": [
    "res_X = pd.read_pickle('SMOTE_res_x.pickle')\n",
    "res_y = pd.read_pickle('SMOTE_res_y.pickle')\n",
    "X_test = pd.read_pickle('scaled_X_test.pickle')\n",
    "y_test = pd.read_pickle('y_test.pickle')\n",
    "scaled_test = pd.read_pickle('scaled_test.pickle')"
   ]
  },
  {
   "cell_type": "code",
   "execution_count": 9,
   "metadata": {
    "collapsed": true
   },
   "outputs": [],
   "source": [
    "# Setting AUC as scoring metrics\n",
    "\n",
    "from sklearn.metrics import roc_auc_score, make_scorer\n",
    "\n",
    "def roc_auc_score_proba(y_true, proba):\n",
    "    return roc_auc_score(y_true, proba[:, 1])\n",
    "\n",
    "auc = make_scorer(roc_auc_score_proba, needs_proba=True)# Decision Tree"
   ]
  },
  {
   "cell_type": "markdown",
   "metadata": {},
   "source": [
    "# Decision Tree"
   ]
  },
  {
   "cell_type": "markdown",
   "metadata": {},
   "source": [
    "I will be using decision tree for feature selection using feature importance."
   ]
  },
  {
   "cell_type": "code",
   "execution_count": 4,
   "metadata": {},
   "outputs": [
    {
     "name": "stdout",
     "output_type": "stream",
     "text": [
      "Fitting 3 folds for each of 384 candidates, totalling 1152 fits\n"
     ]
    },
    {
     "name": "stderr",
     "output_type": "stream",
     "text": [
      "[Parallel(n_jobs=1)]: Done 1152 out of 1152 | elapsed:  4.0min finished\n"
     ]
    },
    {
     "data": {
      "text/plain": [
       "GridSearchCV(cv=3, error_score='raise',\n",
       "       estimator=DecisionTreeClassifier(class_weight=None, criterion='gini', max_depth=None,\n",
       "            max_features=None, max_leaf_nodes=None,\n",
       "            min_impurity_decrease=0.0, min_impurity_split=None,\n",
       "            min_samples_leaf=1, min_samples_split=2,\n",
       "            min_weight_fraction_leaf=0.0, presort=False, random_state=2,\n",
       "            splitter='best'),\n",
       "       fit_params=None, iid=True, n_jobs=1,\n",
       "       param_grid={'max_depth': [1, 2, 3, 4, 5, 6, 7, 8], 'max_features': [None, 'log2', 'sqrt', 2, 3, 4], 'min_samples_split': [2, 3, 4, 5, 10, 15, 20, 25]},\n",
       "       pre_dispatch='2*n_jobs', refit=True, return_train_score='warn',\n",
       "       scoring=make_scorer(roc_auc_score_proba, needs_proba=True),\n",
       "       verbose=1)"
      ]
     },
     "execution_count": 4,
     "metadata": {},
     "output_type": "execute_result"
    }
   ],
   "source": [
    "# dtc_params = {\n",
    "#     'max_depth':[1,2,3,4,5,6,7,8],\n",
    "#     'max_features':[None,'log2','sqrt',2,3,4],\n",
    "#     'min_samples_split':[2,3,4,5,10,15,20,25]\n",
    "# }\n",
    "\n",
    "\n",
    "# dtc_gs = GridSearchCV(DecisionTreeClassifier(random_state=2), dtc_params, cv=3, verbose=1,scoring=auc)\n",
    "# dtc_gs.fit(res_X, res_y)"
   ]
  },
  {
   "cell_type": "code",
   "execution_count": 12,
   "metadata": {
    "collapsed": true
   },
   "outputs": [],
   "source": [
    "# feature_importance = dtc_gs.best_estimator_.feature_importances_"
   ]
  },
  {
   "cell_type": "code",
   "execution_count": 15,
   "metadata": {
    "collapsed": true
   },
   "outputs": [],
   "source": [
    "# feature_importance.dump('feature_importance.pickle')"
   ]
  },
  {
   "cell_type": "code",
   "execution_count": 10,
   "metadata": {
    "collapsed": true
   },
   "outputs": [],
   "source": [
    "feature_importance = pd.read_pickle('feature_importance.pickle')"
   ]
  },
  {
   "cell_type": "code",
   "execution_count": 11,
   "metadata": {},
   "outputs": [
    {
     "data": {
      "text/html": [
       "<div>\n",
       "<style scoped>\n",
       "    .dataframe tbody tr th:only-of-type {\n",
       "        vertical-align: middle;\n",
       "    }\n",
       "\n",
       "    .dataframe tbody tr th {\n",
       "        vertical-align: top;\n",
       "    }\n",
       "\n",
       "    .dataframe thead th {\n",
       "        text-align: right;\n",
       "    }\n",
       "</style>\n",
       "<table border=\"1\" class=\"dataframe\">\n",
       "  <thead>\n",
       "    <tr style=\"text-align: right;\">\n",
       "      <th></th>\n",
       "      <th>0</th>\n",
       "    </tr>\n",
       "  </thead>\n",
       "  <tbody>\n",
       "    <tr>\n",
       "      <th>util_ratio</th>\n",
       "      <td>0.560359</td>\n",
       "    </tr>\n",
       "    <tr>\n",
       "      <th>ph_30to59</th>\n",
       "      <td>0.197957</td>\n",
       "    </tr>\n",
       "    <tr>\n",
       "      <th>ph_90</th>\n",
       "      <td>0.101242</td>\n",
       "    </tr>\n",
       "    <tr>\n",
       "      <th>ph_60to89</th>\n",
       "      <td>0.038669</td>\n",
       "    </tr>\n",
       "    <tr>\n",
       "      <th>realestate_lines</th>\n",
       "      <td>0.033640</td>\n",
       "    </tr>\n",
       "    <tr>\n",
       "      <th>open_credit_loans</th>\n",
       "      <td>0.030716</td>\n",
       "    </tr>\n",
       "    <tr>\n",
       "      <th>age</th>\n",
       "      <td>0.017777</td>\n",
       "    </tr>\n",
       "    <tr>\n",
       "      <th>debtratio</th>\n",
       "      <td>0.012359</td>\n",
       "    </tr>\n",
       "    <tr>\n",
       "      <th>monthlyincome</th>\n",
       "      <td>0.005810</td>\n",
       "    </tr>\n",
       "    <tr>\n",
       "      <th>dependents</th>\n",
       "      <td>0.001472</td>\n",
       "    </tr>\n",
       "  </tbody>\n",
       "</table>\n",
       "</div>"
      ],
      "text/plain": [
       "                          0\n",
       "util_ratio         0.560359\n",
       "ph_30to59          0.197957\n",
       "ph_90              0.101242\n",
       "ph_60to89          0.038669\n",
       "realestate_lines   0.033640\n",
       "open_credit_loans  0.030716\n",
       "age                0.017777\n",
       "debtratio          0.012359\n",
       "monthlyincome      0.005810\n",
       "dependents         0.001472"
      ]
     },
     "execution_count": 11,
     "metadata": {},
     "output_type": "execute_result"
    }
   ],
   "source": [
    "pd.DataFrame(feature_importance,index=X.columns).sort_values(by=0,ascending=False)"
   ]
  },
  {
   "cell_type": "code",
   "execution_count": 12,
   "metadata": {
    "collapsed": true
   },
   "outputs": [],
   "source": [
    "weighted_X = np.multiply(res_X,feature_importance)\n",
    "weighted_X_test = np.multiply(X_test,feature_importance)\n",
    "weighted_test = np.multiply(scaled_test,feature_importance)"
   ]
  },
  {
   "cell_type": "markdown",
   "metadata": {},
   "source": [
    "# Logistic Regression"
   ]
  },
  {
   "cell_type": "code",
   "execution_count": 11,
   "metadata": {},
   "outputs": [
    {
     "data": {
      "text/plain": [
       "LogisticRegressionCV(Cs=10, class_weight=None, cv=3, dual=False,\n",
       "           fit_intercept=True, intercept_scaling=1.0, max_iter=200,\n",
       "           multi_class='ovr', n_jobs=-1, penalty='l2', random_state=2,\n",
       "           refit=True,\n",
       "           scoring=make_scorer(roc_auc_score_proba, needs_proba=True),\n",
       "           solver='lbfgs', tol=0.0001, verbose=0)"
      ]
     },
     "execution_count": 11,
     "metadata": {},
     "output_type": "execute_result"
    }
   ],
   "source": [
    "logregcv = LogisticRegressionCV(n_jobs=-1, random_state=2, max_iter=200, cv=3,\\\n",
    "                                scoring=auc)\n",
    "logregcv.fit(weighted_X, res_y)"
   ]
  },
  {
   "cell_type": "code",
   "execution_count": null,
   "metadata": {
    "collapsed": true
   },
   "outputs": [],
   "source": [
    "joblib.dump(logregcv, 'logregcv_model.pkl')"
   ]
  },
  {
   "cell_type": "code",
   "execution_count": 18,
   "metadata": {},
   "outputs": [
    {
     "name": "stdout",
     "output_type": "stream",
     "text": [
      "Training Score: 0.8364509087400653\n"
     ]
    }
   ],
   "source": [
    "print('Logistic Regression')\n",
    "print ()\n",
    "print ('Training Score: {}'.format(logregcv.score(weighted_X,res_y)))   # training score\n",
    "print ()\n",
    "print ('Test Score: {}'.format(logregcv.score(weighted_X_test,y_test)))   # test score"
   ]
  },
  {
   "cell_type": "code",
   "execution_count": 21,
   "metadata": {
    "collapsed": true
   },
   "outputs": [],
   "source": [
    "import matplotlib.pyplot as plt\n",
    "from sklearn.model_selection import learning_curve\n",
    "\n",
    "def plot_learning_curve(estimator, title, X, y, ylim=None, cv=None,\n",
    "                        n_jobs=1, train_sizes=np.linspace(.1, 1.0, 5)):\n",
    "    \"\"\"\n",
    "    Generate a simple plot of the test and training learning curve.\n",
    "\n",
    "    Parameters\n",
    "    ----------\n",
    "    estimator : object type that implements the \"fit\" and \"predict\" methods\n",
    "        An object of that type which is cloned for each validation.\n",
    "\n",
    "    title : string\n",
    "        Title for the chart.\n",
    "\n",
    "    X : array-like, shape (n_samples, n_features)\n",
    "        Training vector, where n_samples is the number of samples and\n",
    "        n_features is the number of features.\n",
    "\n",
    "    y : array-like, shape (n_samples) or (n_samples, n_features), optional\n",
    "        Target relative to X for classification or regression;\n",
    "        None for unsupervised learning.\n",
    "\n",
    "    ylim : tuple, shape (ymin, ymax), optional\n",
    "        Defines minimum and maximum yvalues plotted.\n",
    "\n",
    "    cv : int, cross-validation generator or an iterable, optional\n",
    "        Determines the cross-validation splitting strategy.\n",
    "        Possible inputs for cv are:\n",
    "          - None, to use the default 3-fold cross-validation,\n",
    "          - integer, to specify the number of folds.\n",
    "          - An object to be used as a cross-validation generator.\n",
    "          - An iterable yielding train/test splits.\n",
    "\n",
    "        For integer/None inputs, if ``y`` is binary or multiclass,\n",
    "        :class:`StratifiedKFold` used. If the estimator is not a classifier\n",
    "        or if ``y`` is neither binary nor multiclass, :class:`KFold` is used.\n",
    "\n",
    "        Refer :ref:`User Guide <cross_validation>` for the various\n",
    "        cross-validators that can be used here.\n",
    "\n",
    "    n_jobs : integer, optional\n",
    "        Number of jobs to run in parallel (default 1).\n",
    "    \"\"\"\n",
    "    plt.figure()\n",
    "    plt.title(title)\n",
    "    if ylim is not None:\n",
    "        plt.ylim(*ylim)\n",
    "    plt.xlabel(\"Training examples\")\n",
    "    plt.ylabel(\"Score\")\n",
    "    train_sizes, train_scores, test_scores = learning_curve(\n",
    "        estimator, X, y, cv=cv, n_jobs=n_jobs, train_sizes=train_sizes,random_state=2)\n",
    "    train_scores_mean = np.mean(train_scores, axis=1)\n",
    "    train_scores_std = np.std(train_scores, axis=1)\n",
    "    test_scores_mean = np.mean(test_scores, axis=1)\n",
    "    test_scores_std = np.std(test_scores, axis=1)\n",
    "    plt.grid()\n",
    "\n",
    "    plt.fill_between(train_sizes, train_scores_mean - train_scores_std,\n",
    "                     train_scores_mean + train_scores_std, alpha=0.1,\n",
    "                     color=\"r\")\n",
    "    plt.fill_between(train_sizes, test_scores_mean - test_scores_std,\n",
    "                     test_scores_mean + test_scores_std, alpha=0.1, color=\"g\")\n",
    "    plt.plot(train_sizes, train_scores_mean, 'o-', color=\"r\",\n",
    "             label=\"Training score\")\n",
    "    plt.plot(train_sizes, test_scores_mean, 'o-', color=\"g\",\n",
    "             label=\"Cross-validation score\")\n",
    "\n",
    "    plt.legend(loc=\"best\")\n",
    "    return plt\n"
   ]
  },
  {
   "cell_type": "code",
   "execution_count": 22,
   "metadata": {},
   "outputs": [
    {
     "data": {
      "text/plain": [
       "<module 'matplotlib.pyplot' from '/Users/joannasyeow/anaconda/envs/python3/lib/python3.6/site-packages/matplotlib/pyplot.py'>"
      ]
     },
     "execution_count": 22,
     "metadata": {},
     "output_type": "execute_result"
    },
    {
     "data": {
      "image/png": "[encoded data removed]",
      "text/plain": [
       "<matplotlib.figure.Figure at 0x1a0c74f860>"
      ]
     },
     "metadata": {
      "image/png": {
       "height": 277,
       "width": 400
      }
     },
     "output_type": "display_data"
    }
   ],
   "source": [
    "title = 'Logistic Regression CV'\n",
    "estimator = logregcv\n",
    "\n",
    "from sklearn.utils import shuffle\n",
    "X, y = shuffle(weighted_X, res_y)\n",
    "\n",
    "plot_learning_curve(estimator, title, X, y, ylim=None, cv=None,\n",
    "                        n_jobs=1, train_sizes=np.linspace(.1, 1.0, 5))"
   ]
  },
  {
   "cell_type": "markdown",
   "metadata": {},
   "source": [
    "Our cross validation score is plateau-ing throughout. This shows that the validation set is unable to learn much from the training data. The training score decrease by only a little bit. It seems that our model is underfitting. We can try to increase the model complexity to see if we can improve on the results. "
   ]
  },
  {
   "cell_type": "markdown",
   "metadata": {},
   "source": [
    "# Kaggle Submission"
   ]
  },
  {
   "cell_type": "code",
   "execution_count": 97,
   "metadata": {
    "collapsed": true
   },
   "outputs": [],
   "source": [
    "# test_predict = logregcv.predict_proba(weighted_test)\n",
    "# test_predict = pd.DataFrame(test_predict)[1]"
   ]
  },
  {
   "cell_type": "code",
   "execution_count": 102,
   "metadata": {
    "collapsed": true
   },
   "outputs": [],
   "source": [
    "# submission = pd.DataFrame(np.arange(1, len(test_predict) + 1))\n",
    "# submission[1] = test_predict\n",
    "# submission = submission.rename({0:'Id',1:'Probability'},axis=1)\n"
   ]
  },
  {
   "cell_type": "code",
   "execution_count": 106,
   "metadata": {
    "collapsed": true
   },
   "outputs": [],
   "source": [
    "# submission.set_index('Id').to_csv('submission_2.csv')"
   ]
  },
  {
   "cell_type": "markdown",
   "metadata": {
    "collapsed": true
   },
   "source": [
    "<img src=\"https://i.imgur.com/weWdohG.png\">"
   ]
  },
  {
   "cell_type": "markdown",
   "metadata": {},
   "source": [
    "My first Kaggle submission using logistic regression cv provided a score of <b>0.857848 (Private)</b> and <b>0.852654 (Public)</b>"
   ]
  },
  {
   "cell_type": "markdown",
   "metadata": {},
   "source": [
    "# XGBoost"
   ]
  },
  {
   "cell_type": "code",
   "execution_count": 13,
   "metadata": {},
   "outputs": [
    {
     "name": "stdout",
     "output_type": "stream",
     "text": [
      "[0]\tvalidation_0-auc:0.881219\tvalidation_1-auc:0.795525\n",
      "[1]\tvalidation_0-auc:0.899104\tvalidation_1-auc:0.821159\n",
      "[2]\tvalidation_0-auc:0.919425\tvalidation_1-auc:0.815466\n",
      "[3]\tvalidation_0-auc:0.930256\tvalidation_1-auc:0.810403\n",
      "[4]\tvalidation_0-auc:0.928106\tvalidation_1-auc:0.818463\n",
      "[5]\tvalidation_0-auc:0.93226\tvalidation_1-auc:0.836311\n",
      "[6]\tvalidation_0-auc:0.93397\tvalidation_1-auc:0.835485\n",
      "[7]\tvalidation_0-auc:0.938604\tvalidation_1-auc:0.83933\n",
      "[8]\tvalidation_0-auc:0.940296\tvalidation_1-auc:0.836171\n",
      "[9]\tvalidation_0-auc:0.943389\tvalidation_1-auc:0.838213\n",
      "[10]\tvalidation_0-auc:0.943464\tvalidation_1-auc:0.836483\n",
      "[11]\tvalidation_0-auc:0.942407\tvalidation_1-auc:0.838385\n",
      "[12]\tvalidation_0-auc:0.943931\tvalidation_1-auc:0.83406\n",
      "[13]\tvalidation_0-auc:0.943542\tvalidation_1-auc:0.833277\n",
      "[14]\tvalidation_0-auc:0.943677\tvalidation_1-auc:0.831762\n",
      "[15]\tvalidation_0-auc:0.943989\tvalidation_1-auc:0.831899\n",
      "[16]\tvalidation_0-auc:0.946084\tvalidation_1-auc:0.826682\n",
      "[17]\tvalidation_0-auc:0.946205\tvalidation_1-auc:0.825596\n",
      "[18]\tvalidation_0-auc:0.945482\tvalidation_1-auc:0.829282\n",
      "[19]\tvalidation_0-auc:0.945589\tvalidation_1-auc:0.824807\n",
      "[20]\tvalidation_0-auc:0.945653\tvalidation_1-auc:0.822279\n",
      "[21]\tvalidation_0-auc:0.945346\tvalidation_1-auc:0.819434\n",
      "[22]\tvalidation_0-auc:0.944655\tvalidation_1-auc:0.823242\n",
      "[23]\tvalidation_0-auc:0.944445\tvalidation_1-auc:0.827425\n",
      "[24]\tvalidation_0-auc:0.944086\tvalidation_1-auc:0.826345\n",
      "[25]\tvalidation_0-auc:0.9451\tvalidation_1-auc:0.826832\n",
      "[26]\tvalidation_0-auc:0.945719\tvalidation_1-auc:0.82228\n",
      "[27]\tvalidation_0-auc:0.945306\tvalidation_1-auc:0.826031\n",
      "[28]\tvalidation_0-auc:0.945891\tvalidation_1-auc:0.825995\n",
      "[29]\tvalidation_0-auc:0.946292\tvalidation_1-auc:0.82668\n",
      "[30]\tvalidation_0-auc:0.946267\tvalidation_1-auc:0.825897\n",
      "[31]\tvalidation_0-auc:0.946257\tvalidation_1-auc:0.827277\n",
      "[32]\tvalidation_0-auc:0.946141\tvalidation_1-auc:0.826159\n",
      "[33]\tvalidation_0-auc:0.946029\tvalidation_1-auc:0.825693\n",
      "[34]\tvalidation_0-auc:0.946042\tvalidation_1-auc:0.824844\n",
      "[35]\tvalidation_0-auc:0.946156\tvalidation_1-auc:0.823884\n",
      "[36]\tvalidation_0-auc:0.945781\tvalidation_1-auc:0.826117\n",
      "[37]\tvalidation_0-auc:0.946009\tvalidation_1-auc:0.824846\n",
      "[38]\tvalidation_0-auc:0.946007\tvalidation_1-auc:0.823954\n",
      "[39]\tvalidation_0-auc:0.946972\tvalidation_1-auc:0.821583\n",
      "[40]\tvalidation_0-auc:0.947616\tvalidation_1-auc:0.819671\n",
      "[41]\tvalidation_0-auc:0.948237\tvalidation_1-auc:0.821243\n",
      "[42]\tvalidation_0-auc:0.949296\tvalidation_1-auc:0.818713\n",
      "[43]\tvalidation_0-auc:0.949394\tvalidation_1-auc:0.818466\n",
      "[44]\tvalidation_0-auc:0.949182\tvalidation_1-auc:0.817167\n",
      "[45]\tvalidation_0-auc:0.949246\tvalidation_1-auc:0.817017\n",
      "[46]\tvalidation_0-auc:0.949233\tvalidation_1-auc:0.816782\n",
      "[47]\tvalidation_0-auc:0.949769\tvalidation_1-auc:0.818816\n",
      "[48]\tvalidation_0-auc:0.949813\tvalidation_1-auc:0.820526\n",
      "[49]\tvalidation_0-auc:0.95035\tvalidation_1-auc:0.823365\n",
      "[50]\tvalidation_0-auc:0.950437\tvalidation_1-auc:0.822029\n",
      "[51]\tvalidation_0-auc:0.95058\tvalidation_1-auc:0.820943\n",
      "[52]\tvalidation_0-auc:0.950709\tvalidation_1-auc:0.822861\n",
      "[53]\tvalidation_0-auc:0.951176\tvalidation_1-auc:0.822015\n",
      "[54]\tvalidation_0-auc:0.951723\tvalidation_1-auc:0.821724\n",
      "[55]\tvalidation_0-auc:0.951674\tvalidation_1-auc:0.8216\n",
      "[56]\tvalidation_0-auc:0.951919\tvalidation_1-auc:0.822431\n",
      "[57]\tvalidation_0-auc:0.952115\tvalidation_1-auc:0.822507\n",
      "[58]\tvalidation_0-auc:0.951977\tvalidation_1-auc:0.823658\n",
      "[59]\tvalidation_0-auc:0.952477\tvalidation_1-auc:0.821395\n",
      "[60]\tvalidation_0-auc:0.952415\tvalidation_1-auc:0.821159\n",
      "[61]\tvalidation_0-auc:0.952624\tvalidation_1-auc:0.822296\n",
      "[62]\tvalidation_0-auc:0.952821\tvalidation_1-auc:0.822369\n",
      "[63]\tvalidation_0-auc:0.952862\tvalidation_1-auc:0.824637\n",
      "[64]\tvalidation_0-auc:0.953288\tvalidation_1-auc:0.824568\n",
      "[65]\tvalidation_0-auc:0.953278\tvalidation_1-auc:0.824147\n",
      "[66]\tvalidation_0-auc:0.953191\tvalidation_1-auc:0.824038\n",
      "[67]\tvalidation_0-auc:0.953365\tvalidation_1-auc:0.823771\n",
      "[68]\tvalidation_0-auc:0.953847\tvalidation_1-auc:0.823515\n",
      "[69]\tvalidation_0-auc:0.953799\tvalidation_1-auc:0.826007\n",
      "[70]\tvalidation_0-auc:0.953777\tvalidation_1-auc:0.826178\n",
      "[71]\tvalidation_0-auc:0.95383\tvalidation_1-auc:0.827056\n",
      "[72]\tvalidation_0-auc:0.953901\tvalidation_1-auc:0.826414\n",
      "[73]\tvalidation_0-auc:0.954106\tvalidation_1-auc:0.825229\n",
      "[74]\tvalidation_0-auc:0.954147\tvalidation_1-auc:0.824655\n",
      "[75]\tvalidation_0-auc:0.954025\tvalidation_1-auc:0.825859\n",
      "[76]\tvalidation_0-auc:0.954387\tvalidation_1-auc:0.824072\n",
      "[77]\tvalidation_0-auc:0.954788\tvalidation_1-auc:0.822473\n",
      "[78]\tvalidation_0-auc:0.955062\tvalidation_1-auc:0.821568\n",
      "[79]\tvalidation_0-auc:0.955094\tvalidation_1-auc:0.821377\n",
      "[80]\tvalidation_0-auc:0.955262\tvalidation_1-auc:0.820494\n",
      "[81]\tvalidation_0-auc:0.955449\tvalidation_1-auc:0.820518\n",
      "[82]\tvalidation_0-auc:0.955502\tvalidation_1-auc:0.820318\n",
      "[83]\tvalidation_0-auc:0.955668\tvalidation_1-auc:0.820394\n",
      "[84]\tvalidation_0-auc:0.955704\tvalidation_1-auc:0.820183\n",
      "[85]\tvalidation_0-auc:0.955876\tvalidation_1-auc:0.820297\n",
      "[86]\tvalidation_0-auc:0.956065\tvalidation_1-auc:0.820416\n",
      "[87]\tvalidation_0-auc:0.956133\tvalidation_1-auc:0.818935\n",
      "[88]\tvalidation_0-auc:0.955985\tvalidation_1-auc:0.820033\n",
      "[89]\tvalidation_0-auc:0.955837\tvalidation_1-auc:0.820886\n",
      "[90]\tvalidation_0-auc:0.955936\tvalidation_1-auc:0.820304\n",
      "[91]\tvalidation_0-auc:0.955796\tvalidation_1-auc:0.821231\n",
      "[92]\tvalidation_0-auc:0.956139\tvalidation_1-auc:0.820681\n",
      "[93]\tvalidation_0-auc:0.956268\tvalidation_1-auc:0.82038\n",
      "[94]\tvalidation_0-auc:0.956273\tvalidation_1-auc:0.820336\n",
      "[95]\tvalidation_0-auc:0.956576\tvalidation_1-auc:0.820336\n",
      "[96]\tvalidation_0-auc:0.956862\tvalidation_1-auc:0.821012\n",
      "[97]\tvalidation_0-auc:0.956833\tvalidation_1-auc:0.821012\n",
      "[98]\tvalidation_0-auc:0.957209\tvalidation_1-auc:0.82072\n",
      "[99]\tvalidation_0-auc:0.957606\tvalidation_1-auc:0.82067\n",
      "[100]\tvalidation_0-auc:0.957792\tvalidation_1-auc:0.820563\n",
      "[101]\tvalidation_0-auc:0.957888\tvalidation_1-auc:0.820258\n",
      "[102]\tvalidation_0-auc:0.957881\tvalidation_1-auc:0.821207\n",
      "[103]\tvalidation_0-auc:0.95796\tvalidation_1-auc:0.821428\n",
      "[104]\tvalidation_0-auc:0.958125\tvalidation_1-auc:0.821355\n",
      "[105]\tvalidation_0-auc:0.958412\tvalidation_1-auc:0.820818\n",
      "[106]\tvalidation_0-auc:0.958548\tvalidation_1-auc:0.820901\n",
      "[107]\tvalidation_0-auc:0.958793\tvalidation_1-auc:0.819664\n",
      "[108]\tvalidation_0-auc:0.958809\tvalidation_1-auc:0.818645\n",
      "[109]\tvalidation_0-auc:0.958853\tvalidation_1-auc:0.819149\n",
      "[110]\tvalidation_0-auc:0.958933\tvalidation_1-auc:0.819043\n",
      "[111]\tvalidation_0-auc:0.958942\tvalidation_1-auc:0.818801\n",
      "[112]\tvalidation_0-auc:0.958823\tvalidation_1-auc:0.819433\n",
      "[113]\tvalidation_0-auc:0.958881\tvalidation_1-auc:0.819093\n",
      "[114]\tvalidation_0-auc:0.959077\tvalidation_1-auc:0.81891\n",
      "[115]\tvalidation_0-auc:0.959085\tvalidation_1-auc:0.818735\n",
      "[116]\tvalidation_0-auc:0.959012\tvalidation_1-auc:0.819105\n",
      "[117]\tvalidation_0-auc:0.959248\tvalidation_1-auc:0.819105\n",
      "[118]\tvalidation_0-auc:0.959276\tvalidation_1-auc:0.819299\n",
      "[119]\tvalidation_0-auc:0.959278\tvalidation_1-auc:0.819446\n",
      "[120]\tvalidation_0-auc:0.959472\tvalidation_1-auc:0.819516\n",
      "[121]\tvalidation_0-auc:0.959683\tvalidation_1-auc:0.820023\n",
      "[122]\tvalidation_0-auc:0.95988\tvalidation_1-auc:0.819618\n",
      "[123]\tvalidation_0-auc:0.959884\tvalidation_1-auc:0.819653\n",
      "[124]\tvalidation_0-auc:0.959798\tvalidation_1-auc:0.820159\n",
      "[125]\tvalidation_0-auc:0.960273\tvalidation_1-auc:0.819863\n",
      "[126]\tvalidation_0-auc:0.960251\tvalidation_1-auc:0.819888\n",
      "[127]\tvalidation_0-auc:0.960398\tvalidation_1-auc:0.819861\n",
      "[128]\tvalidation_0-auc:0.960445\tvalidation_1-auc:0.819525\n",
      "[129]\tvalidation_0-auc:0.960588\tvalidation_1-auc:0.818571\n",
      "[130]\tvalidation_0-auc:0.960654\tvalidation_1-auc:0.818019\n",
      "[131]\tvalidation_0-auc:0.960714\tvalidation_1-auc:0.817937\n",
      "[132]\tvalidation_0-auc:0.960935\tvalidation_1-auc:0.817701\n",
      "[133]\tvalidation_0-auc:0.9611\tvalidation_1-auc:0.817787\n",
      "[134]\tvalidation_0-auc:0.961252\tvalidation_1-auc:0.817843\n",
      "[135]\tvalidation_0-auc:0.961378\tvalidation_1-auc:0.817833\n",
      "[136]\tvalidation_0-auc:0.961645\tvalidation_1-auc:0.818407\n",
      "[137]\tvalidation_0-auc:0.961707\tvalidation_1-auc:0.818935\n",
      "[138]\tvalidation_0-auc:0.961923\tvalidation_1-auc:0.819544\n",
      "[139]\tvalidation_0-auc:0.96202\tvalidation_1-auc:0.819465\n",
      "[140]\tvalidation_0-auc:0.962219\tvalidation_1-auc:0.819558\n",
      "[141]\tvalidation_0-auc:0.962271\tvalidation_1-auc:0.819979\n",
      "[142]\tvalidation_0-auc:0.962469\tvalidation_1-auc:0.820161\n",
      "[143]\tvalidation_0-auc:0.962411\tvalidation_1-auc:0.820516\n"
     ]
    },
    {
     "name": "stdout",
     "output_type": "stream",
     "text": [
      "[144]\tvalidation_0-auc:0.962431\tvalidation_1-auc:0.820644\n",
      "[145]\tvalidation_0-auc:0.962655\tvalidation_1-auc:0.820847\n",
      "[146]\tvalidation_0-auc:0.962794\tvalidation_1-auc:0.821166\n",
      "[147]\tvalidation_0-auc:0.962954\tvalidation_1-auc:0.821579\n",
      "[148]\tvalidation_0-auc:0.963133\tvalidation_1-auc:0.821252\n",
      "[149]\tvalidation_0-auc:0.963274\tvalidation_1-auc:0.821415\n",
      "[150]\tvalidation_0-auc:0.963408\tvalidation_1-auc:0.821415\n",
      "[151]\tvalidation_0-auc:0.963499\tvalidation_1-auc:0.821425\n",
      "[152]\tvalidation_0-auc:0.963585\tvalidation_1-auc:0.821447\n",
      "[153]\tvalidation_0-auc:0.96368\tvalidation_1-auc:0.821478\n",
      "[154]\tvalidation_0-auc:0.963645\tvalidation_1-auc:0.821671\n",
      "[155]\tvalidation_0-auc:0.9638\tvalidation_1-auc:0.821612\n",
      "[156]\tvalidation_0-auc:0.96388\tvalidation_1-auc:0.821564\n",
      "[157]\tvalidation_0-auc:0.964009\tvalidation_1-auc:0.821522\n",
      "[158]\tvalidation_0-auc:0.964082\tvalidation_1-auc:0.821542\n",
      "[159]\tvalidation_0-auc:0.964168\tvalidation_1-auc:0.821094\n",
      "[160]\tvalidation_0-auc:0.964247\tvalidation_1-auc:0.820658\n",
      "[161]\tvalidation_0-auc:0.964411\tvalidation_1-auc:0.820294\n",
      "[162]\tvalidation_0-auc:0.964525\tvalidation_1-auc:0.820319\n",
      "[163]\tvalidation_0-auc:0.96473\tvalidation_1-auc:0.820517\n",
      "[164]\tvalidation_0-auc:0.964795\tvalidation_1-auc:0.820434\n",
      "[165]\tvalidation_0-auc:0.964857\tvalidation_1-auc:0.820546\n",
      "[166]\tvalidation_0-auc:0.964917\tvalidation_1-auc:0.820527\n",
      "[167]\tvalidation_0-auc:0.965116\tvalidation_1-auc:0.820851\n",
      "[168]\tvalidation_0-auc:0.965269\tvalidation_1-auc:0.820803\n",
      "[169]\tvalidation_0-auc:0.965422\tvalidation_1-auc:0.820805\n",
      "[170]\tvalidation_0-auc:0.965387\tvalidation_1-auc:0.821059\n",
      "[171]\tvalidation_0-auc:0.965444\tvalidation_1-auc:0.821104\n",
      "[172]\tvalidation_0-auc:0.965684\tvalidation_1-auc:0.820686\n",
      "[173]\tvalidation_0-auc:0.965789\tvalidation_1-auc:0.820691\n",
      "[174]\tvalidation_0-auc:0.965786\tvalidation_1-auc:0.820689\n",
      "[175]\tvalidation_0-auc:0.965939\tvalidation_1-auc:0.820689\n",
      "[176]\tvalidation_0-auc:0.965947\tvalidation_1-auc:0.82077\n",
      "[177]\tvalidation_0-auc:0.965963\tvalidation_1-auc:0.820805\n",
      "[178]\tvalidation_0-auc:0.96606\tvalidation_1-auc:0.819964\n",
      "[179]\tvalidation_0-auc:0.966095\tvalidation_1-auc:0.820002\n",
      "[180]\tvalidation_0-auc:0.966142\tvalidation_1-auc:0.819513\n",
      "[181]\tvalidation_0-auc:0.966118\tvalidation_1-auc:0.819677\n",
      "[182]\tvalidation_0-auc:0.966405\tvalidation_1-auc:0.819236\n",
      "[183]\tvalidation_0-auc:0.966429\tvalidation_1-auc:0.819488\n",
      "[184]\tvalidation_0-auc:0.966576\tvalidation_1-auc:0.819305\n",
      "[185]\tvalidation_0-auc:0.966627\tvalidation_1-auc:0.819317\n",
      "[186]\tvalidation_0-auc:0.96677\tvalidation_1-auc:0.819275\n",
      "[187]\tvalidation_0-auc:0.966757\tvalidation_1-auc:0.819356\n",
      "[188]\tvalidation_0-auc:0.966958\tvalidation_1-auc:0.819667\n",
      "[189]\tvalidation_0-auc:0.967145\tvalidation_1-auc:0.819115\n",
      "[190]\tvalidation_0-auc:0.967193\tvalidation_1-auc:0.819106\n",
      "[191]\tvalidation_0-auc:0.967205\tvalidation_1-auc:0.819115\n",
      "[192]\tvalidation_0-auc:0.967192\tvalidation_1-auc:0.819255\n",
      "[193]\tvalidation_0-auc:0.967382\tvalidation_1-auc:0.819181\n",
      "[194]\tvalidation_0-auc:0.967353\tvalidation_1-auc:0.819353\n",
      "[195]\tvalidation_0-auc:0.967427\tvalidation_1-auc:0.819353\n",
      "[196]\tvalidation_0-auc:0.967682\tvalidation_1-auc:0.81898\n",
      "[197]\tvalidation_0-auc:0.967893\tvalidation_1-auc:0.818523\n",
      "[198]\tvalidation_0-auc:0.967865\tvalidation_1-auc:0.818536\n",
      "[199]\tvalidation_0-auc:0.967973\tvalidation_1-auc:0.818537\n",
      "[200]\tvalidation_0-auc:0.967958\tvalidation_1-auc:0.818788\n",
      "[201]\tvalidation_0-auc:0.968053\tvalidation_1-auc:0.818518\n",
      "[202]\tvalidation_0-auc:0.968041\tvalidation_1-auc:0.818633\n",
      "[203]\tvalidation_0-auc:0.968117\tvalidation_1-auc:0.818484\n",
      "[204]\tvalidation_0-auc:0.968179\tvalidation_1-auc:0.818367\n",
      "[205]\tvalidation_0-auc:0.968321\tvalidation_1-auc:0.818453\n",
      "[206]\tvalidation_0-auc:0.968482\tvalidation_1-auc:0.818702\n",
      "[207]\tvalidation_0-auc:0.968706\tvalidation_1-auc:0.818268\n",
      "[208]\tvalidation_0-auc:0.96877\tvalidation_1-auc:0.81826\n",
      "[209]\tvalidation_0-auc:0.968918\tvalidation_1-auc:0.817868\n",
      "[210]\tvalidation_0-auc:0.969061\tvalidation_1-auc:0.817262\n",
      "[211]\tvalidation_0-auc:0.969126\tvalidation_1-auc:0.816269\n",
      "[212]\tvalidation_0-auc:0.96927\tvalidation_1-auc:0.814546\n",
      "[213]\tvalidation_0-auc:0.969272\tvalidation_1-auc:0.814395\n",
      "[214]\tvalidation_0-auc:0.96928\tvalidation_1-auc:0.814354\n",
      "[215]\tvalidation_0-auc:0.969441\tvalidation_1-auc:0.814668\n",
      "[216]\tvalidation_0-auc:0.969534\tvalidation_1-auc:0.81466\n",
      "[217]\tvalidation_0-auc:0.969559\tvalidation_1-auc:0.814515\n",
      "[218]\tvalidation_0-auc:0.969613\tvalidation_1-auc:0.814532\n",
      "[219]\tvalidation_0-auc:0.969675\tvalidation_1-auc:0.814832\n",
      "[220]\tvalidation_0-auc:0.969672\tvalidation_1-auc:0.814893\n",
      "[221]\tvalidation_0-auc:0.969765\tvalidation_1-auc:0.814262\n",
      "[222]\tvalidation_0-auc:0.969848\tvalidation_1-auc:0.813866\n",
      "[223]\tvalidation_0-auc:0.969864\tvalidation_1-auc:0.814003\n",
      "[224]\tvalidation_0-auc:0.969922\tvalidation_1-auc:0.813911\n",
      "[225]\tvalidation_0-auc:0.970087\tvalidation_1-auc:0.814113\n",
      "[226]\tvalidation_0-auc:0.970124\tvalidation_1-auc:0.814086\n",
      "[227]\tvalidation_0-auc:0.970315\tvalidation_1-auc:0.813642\n",
      "[228]\tvalidation_0-auc:0.970426\tvalidation_1-auc:0.813508\n",
      "[229]\tvalidation_0-auc:0.970573\tvalidation_1-auc:0.812475\n",
      "[230]\tvalidation_0-auc:0.970633\tvalidation_1-auc:0.81278\n",
      "[231]\tvalidation_0-auc:0.970816\tvalidation_1-auc:0.81278\n",
      "[232]\tvalidation_0-auc:0.971098\tvalidation_1-auc:0.812654\n",
      "[233]\tvalidation_0-auc:0.97116\tvalidation_1-auc:0.813266\n",
      "[234]\tvalidation_0-auc:0.971268\tvalidation_1-auc:0.812059\n",
      "[235]\tvalidation_0-auc:0.97138\tvalidation_1-auc:0.812004\n",
      "[236]\tvalidation_0-auc:0.971474\tvalidation_1-auc:0.811762\n",
      "[237]\tvalidation_0-auc:0.971479\tvalidation_1-auc:0.811761\n",
      "[238]\tvalidation_0-auc:0.971448\tvalidation_1-auc:0.811797\n",
      "[239]\tvalidation_0-auc:0.971501\tvalidation_1-auc:0.812025\n",
      "[240]\tvalidation_0-auc:0.971547\tvalidation_1-auc:0.811995\n",
      "[241]\tvalidation_0-auc:0.971672\tvalidation_1-auc:0.811974\n",
      "[242]\tvalidation_0-auc:0.971774\tvalidation_1-auc:0.810608\n",
      "[243]\tvalidation_0-auc:0.971815\tvalidation_1-auc:0.810603\n",
      "[244]\tvalidation_0-auc:0.971801\tvalidation_1-auc:0.810611\n",
      "[245]\tvalidation_0-auc:0.971839\tvalidation_1-auc:0.80985\n",
      "[246]\tvalidation_0-auc:0.971936\tvalidation_1-auc:0.809673\n",
      "[247]\tvalidation_0-auc:0.971929\tvalidation_1-auc:0.809675\n",
      "[248]\tvalidation_0-auc:0.971953\tvalidation_1-auc:0.809727\n",
      "[249]\tvalidation_0-auc:0.971998\tvalidation_1-auc:0.809595\n",
      "[250]\tvalidation_0-auc:0.97221\tvalidation_1-auc:0.809444\n",
      "[251]\tvalidation_0-auc:0.972198\tvalidation_1-auc:0.80941\n",
      "[252]\tvalidation_0-auc:0.972181\tvalidation_1-auc:0.809482\n",
      "[253]\tvalidation_0-auc:0.97234\tvalidation_1-auc:0.80894\n",
      "[254]\tvalidation_0-auc:0.972363\tvalidation_1-auc:0.808779\n",
      "[255]\tvalidation_0-auc:0.972564\tvalidation_1-auc:0.808665\n",
      "[256]\tvalidation_0-auc:0.97271\tvalidation_1-auc:0.808137\n",
      "[257]\tvalidation_0-auc:0.972706\tvalidation_1-auc:0.808137\n",
      "[258]\tvalidation_0-auc:0.972784\tvalidation_1-auc:0.807917\n",
      "[259]\tvalidation_0-auc:0.972828\tvalidation_1-auc:0.80754\n",
      "[260]\tvalidation_0-auc:0.972821\tvalidation_1-auc:0.807573\n",
      "[261]\tvalidation_0-auc:0.972852\tvalidation_1-auc:0.807554\n",
      "[262]\tvalidation_0-auc:0.972849\tvalidation_1-auc:0.807599\n",
      "[263]\tvalidation_0-auc:0.97289\tvalidation_1-auc:0.807508\n",
      "[264]\tvalidation_0-auc:0.97311\tvalidation_1-auc:0.807508\n",
      "[265]\tvalidation_0-auc:0.973289\tvalidation_1-auc:0.807331\n",
      "[266]\tvalidation_0-auc:0.973339\tvalidation_1-auc:0.807316\n",
      "[267]\tvalidation_0-auc:0.973402\tvalidation_1-auc:0.807411\n",
      "[268]\tvalidation_0-auc:0.973464\tvalidation_1-auc:0.807411\n",
      "[269]\tvalidation_0-auc:0.973519\tvalidation_1-auc:0.807148\n",
      "[270]\tvalidation_0-auc:0.973546\tvalidation_1-auc:0.806896\n",
      "[271]\tvalidation_0-auc:0.973606\tvalidation_1-auc:0.80654\n",
      "[272]\tvalidation_0-auc:0.973809\tvalidation_1-auc:0.80654\n",
      "[273]\tvalidation_0-auc:0.973801\tvalidation_1-auc:0.806539\n",
      "[274]\tvalidation_0-auc:0.973904\tvalidation_1-auc:0.806445\n",
      "[275]\tvalidation_0-auc:0.973945\tvalidation_1-auc:0.805531\n",
      "[276]\tvalidation_0-auc:0.974138\tvalidation_1-auc:0.805531\n",
      "[277]\tvalidation_0-auc:0.974317\tvalidation_1-auc:0.805531\n",
      "[278]\tvalidation_0-auc:0.97434\tvalidation_1-auc:0.805461\n",
      "[279]\tvalidation_0-auc:0.97449\tvalidation_1-auc:0.805303\n",
      "[280]\tvalidation_0-auc:0.9745\tvalidation_1-auc:0.805303\n",
      "[281]\tvalidation_0-auc:0.974504\tvalidation_1-auc:0.805389\n",
      "[282]\tvalidation_0-auc:0.974525\tvalidation_1-auc:0.805358\n",
      "[283]\tvalidation_0-auc:0.974673\tvalidation_1-auc:0.805358\n",
      "[284]\tvalidation_0-auc:0.97487\tvalidation_1-auc:0.805185\n",
      "[285]\tvalidation_0-auc:0.975006\tvalidation_1-auc:0.804922\n"
     ]
    },
    {
     "name": "stdout",
     "output_type": "stream",
     "text": [
      "[286]\tvalidation_0-auc:0.975032\tvalidation_1-auc:0.804208\n",
      "[287]\tvalidation_0-auc:0.97518\tvalidation_1-auc:0.804082\n",
      "[288]\tvalidation_0-auc:0.97521\tvalidation_1-auc:0.804093\n",
      "[289]\tvalidation_0-auc:0.975226\tvalidation_1-auc:0.804071\n",
      "[290]\tvalidation_0-auc:0.975275\tvalidation_1-auc:0.804071\n",
      "[291]\tvalidation_0-auc:0.975288\tvalidation_1-auc:0.803874\n",
      "[292]\tvalidation_0-auc:0.975472\tvalidation_1-auc:0.803675\n",
      "[293]\tvalidation_0-auc:0.975468\tvalidation_1-auc:0.803742\n",
      "[294]\tvalidation_0-auc:0.975463\tvalidation_1-auc:0.803728\n",
      "[295]\tvalidation_0-auc:0.975483\tvalidation_1-auc:0.803728\n",
      "[296]\tvalidation_0-auc:0.975605\tvalidation_1-auc:0.803499\n",
      "[297]\tvalidation_0-auc:0.975724\tvalidation_1-auc:0.803506\n",
      "[298]\tvalidation_0-auc:0.97578\tvalidation_1-auc:0.803427\n",
      "[299]\tvalidation_0-auc:0.975908\tvalidation_1-auc:0.803427\n",
      "[300]\tvalidation_0-auc:0.97593\tvalidation_1-auc:0.803303\n",
      "[301]\tvalidation_0-auc:0.976088\tvalidation_1-auc:0.803154\n",
      "[302]\tvalidation_0-auc:0.976133\tvalidation_1-auc:0.803458\n",
      "[303]\tvalidation_0-auc:0.976161\tvalidation_1-auc:0.803419\n",
      "[304]\tvalidation_0-auc:0.976168\tvalidation_1-auc:0.803408\n",
      "[305]\tvalidation_0-auc:0.976166\tvalidation_1-auc:0.80343\n",
      "[306]\tvalidation_0-auc:0.976169\tvalidation_1-auc:0.803449\n",
      "[307]\tvalidation_0-auc:0.976201\tvalidation_1-auc:0.803225\n",
      "[308]\tvalidation_0-auc:0.976336\tvalidation_1-auc:0.803225\n",
      "[309]\tvalidation_0-auc:0.976333\tvalidation_1-auc:0.803227\n",
      "[310]\tvalidation_0-auc:0.976358\tvalidation_1-auc:0.802892\n",
      "[311]\tvalidation_0-auc:0.976507\tvalidation_1-auc:0.802728\n",
      "[312]\tvalidation_0-auc:0.976533\tvalidation_1-auc:0.802203\n",
      "[313]\tvalidation_0-auc:0.976569\tvalidation_1-auc:0.802335\n",
      "[314]\tvalidation_0-auc:0.976596\tvalidation_1-auc:0.801754\n",
      "[315]\tvalidation_0-auc:0.976595\tvalidation_1-auc:0.801755\n",
      "[316]\tvalidation_0-auc:0.976649\tvalidation_1-auc:0.801783\n",
      "[317]\tvalidation_0-auc:0.976674\tvalidation_1-auc:0.801766\n",
      "[318]\tvalidation_0-auc:0.976787\tvalidation_1-auc:0.801766\n",
      "[319]\tvalidation_0-auc:0.97693\tvalidation_1-auc:0.801549\n",
      "[320]\tvalidation_0-auc:0.976932\tvalidation_1-auc:0.801555\n",
      "[321]\tvalidation_0-auc:0.976943\tvalidation_1-auc:0.801332\n",
      "[322]\tvalidation_0-auc:0.97697\tvalidation_1-auc:0.801313\n",
      "[323]\tvalidation_0-auc:0.977003\tvalidation_1-auc:0.801381\n",
      "[324]\tvalidation_0-auc:0.977109\tvalidation_1-auc:0.801381\n",
      "[325]\tvalidation_0-auc:0.977145\tvalidation_1-auc:0.801591\n",
      "[326]\tvalidation_0-auc:0.97717\tvalidation_1-auc:0.801591\n",
      "[327]\tvalidation_0-auc:0.977273\tvalidation_1-auc:0.801591\n",
      "[328]\tvalidation_0-auc:0.977289\tvalidation_1-auc:0.801591\n",
      "[329]\tvalidation_0-auc:0.977298\tvalidation_1-auc:0.801378\n",
      "[330]\tvalidation_0-auc:0.977297\tvalidation_1-auc:0.801371\n",
      "[331]\tvalidation_0-auc:0.977406\tvalidation_1-auc:0.801371\n",
      "[332]\tvalidation_0-auc:0.977497\tvalidation_1-auc:0.80137\n",
      "[333]\tvalidation_0-auc:0.977529\tvalidation_1-auc:0.80117\n",
      "[334]\tvalidation_0-auc:0.977659\tvalidation_1-auc:0.800857\n",
      "[335]\tvalidation_0-auc:0.977684\tvalidation_1-auc:0.800857\n",
      "[336]\tvalidation_0-auc:0.977791\tvalidation_1-auc:0.800857\n",
      "[337]\tvalidation_0-auc:0.977881\tvalidation_1-auc:0.800857\n",
      "[338]\tvalidation_0-auc:0.978008\tvalidation_1-auc:0.800567\n",
      "[339]\tvalidation_0-auc:0.978048\tvalidation_1-auc:0.800327\n",
      "[340]\tvalidation_0-auc:0.978065\tvalidation_1-auc:0.800332\n",
      "[341]\tvalidation_0-auc:0.978077\tvalidation_1-auc:0.799814\n",
      "[342]\tvalidation_0-auc:0.978085\tvalidation_1-auc:0.799831\n",
      "[343]\tvalidation_0-auc:0.978096\tvalidation_1-auc:0.799252\n",
      "[344]\tvalidation_0-auc:0.978177\tvalidation_1-auc:0.799252\n",
      "[345]\tvalidation_0-auc:0.978185\tvalidation_1-auc:0.799239\n",
      "[346]\tvalidation_0-auc:0.978262\tvalidation_1-auc:0.798926\n",
      "[347]\tvalidation_0-auc:0.978368\tvalidation_1-auc:0.798468\n",
      "[348]\tvalidation_0-auc:0.978467\tvalidation_1-auc:0.798123\n",
      "[349]\tvalidation_0-auc:0.978484\tvalidation_1-auc:0.797852\n",
      "[350]\tvalidation_0-auc:0.978499\tvalidation_1-auc:0.797844\n",
      "[351]\tvalidation_0-auc:0.97853\tvalidation_1-auc:0.797723\n",
      "[352]\tvalidation_0-auc:0.978615\tvalidation_1-auc:0.797723\n",
      "[353]\tvalidation_0-auc:0.978721\tvalidation_1-auc:0.797405\n",
      "[354]\tvalidation_0-auc:0.978733\tvalidation_1-auc:0.797423\n",
      "[355]\tvalidation_0-auc:0.978773\tvalidation_1-auc:0.797423\n",
      "[356]\tvalidation_0-auc:0.978849\tvalidation_1-auc:0.797423\n",
      "[357]\tvalidation_0-auc:0.978881\tvalidation_1-auc:0.797364\n",
      "[358]\tvalidation_0-auc:0.978891\tvalidation_1-auc:0.797709\n",
      "[359]\tvalidation_0-auc:0.97892\tvalidation_1-auc:0.797697\n",
      "[360]\tvalidation_0-auc:0.978995\tvalidation_1-auc:0.797697\n",
      "[361]\tvalidation_0-auc:0.979011\tvalidation_1-auc:0.797667\n",
      "[362]\tvalidation_0-auc:0.979049\tvalidation_1-auc:0.797667\n",
      "[363]\tvalidation_0-auc:0.979101\tvalidation_1-auc:0.797667\n",
      "[364]\tvalidation_0-auc:0.979143\tvalidation_1-auc:0.797667\n",
      "[365]\tvalidation_0-auc:0.97917\tvalidation_1-auc:0.797792\n",
      "[366]\tvalidation_0-auc:0.979246\tvalidation_1-auc:0.797792\n",
      "[367]\tvalidation_0-auc:0.979263\tvalidation_1-auc:0.797893\n",
      "[368]\tvalidation_0-auc:0.979286\tvalidation_1-auc:0.797627\n",
      "[369]\tvalidation_0-auc:0.979355\tvalidation_1-auc:0.797627\n",
      "[370]\tvalidation_0-auc:0.979425\tvalidation_1-auc:0.797627\n",
      "[371]\tvalidation_0-auc:0.979448\tvalidation_1-auc:0.797389\n",
      "[372]\tvalidation_0-auc:0.979463\tvalidation_1-auc:0.797408\n",
      "[373]\tvalidation_0-auc:0.979537\tvalidation_1-auc:0.797408\n",
      "[374]\tvalidation_0-auc:0.979608\tvalidation_1-auc:0.797408\n",
      "[375]\tvalidation_0-auc:0.979676\tvalidation_1-auc:0.797408\n",
      "[376]\tvalidation_0-auc:0.979681\tvalidation_1-auc:0.797429\n",
      "[377]\tvalidation_0-auc:0.9797\tvalidation_1-auc:0.79744\n",
      "[378]\tvalidation_0-auc:0.979772\tvalidation_1-auc:0.79744\n",
      "[379]\tvalidation_0-auc:0.979799\tvalidation_1-auc:0.796836\n",
      "[380]\tvalidation_0-auc:0.979837\tvalidation_1-auc:0.796836\n",
      "[381]\tvalidation_0-auc:0.97985\tvalidation_1-auc:0.796855\n",
      "[382]\tvalidation_0-auc:0.979869\tvalidation_1-auc:0.796827\n",
      "[383]\tvalidation_0-auc:0.979963\tvalidation_1-auc:0.796355\n",
      "[384]\tvalidation_0-auc:0.980009\tvalidation_1-auc:0.796355\n",
      "[385]\tvalidation_0-auc:0.980044\tvalidation_1-auc:0.796368\n",
      "[386]\tvalidation_0-auc:0.98007\tvalidation_1-auc:0.796893\n",
      "[387]\tvalidation_0-auc:0.980087\tvalidation_1-auc:0.79671\n",
      "[388]\tvalidation_0-auc:0.980169\tvalidation_1-auc:0.796176\n",
      "[389]\tvalidation_0-auc:0.980222\tvalidation_1-auc:0.795709\n",
      "[390]\tvalidation_0-auc:0.980281\tvalidation_1-auc:0.795709\n",
      "[391]\tvalidation_0-auc:0.980333\tvalidation_1-auc:0.795709\n",
      "[392]\tvalidation_0-auc:0.980343\tvalidation_1-auc:0.795709\n",
      "[393]\tvalidation_0-auc:0.980401\tvalidation_1-auc:0.795709\n",
      "[394]\tvalidation_0-auc:0.980456\tvalidation_1-auc:0.795709\n",
      "[395]\tvalidation_0-auc:0.980516\tvalidation_1-auc:0.795709\n",
      "[396]\tvalidation_0-auc:0.980574\tvalidation_1-auc:0.795709\n",
      "[397]\tvalidation_0-auc:0.980601\tvalidation_1-auc:0.795709\n",
      "[398]\tvalidation_0-auc:0.980615\tvalidation_1-auc:0.794566\n",
      "[399]\tvalidation_0-auc:0.980682\tvalidation_1-auc:0.794384\n",
      "[400]\tvalidation_0-auc:0.980726\tvalidation_1-auc:0.793971\n",
      "[401]\tvalidation_0-auc:0.980738\tvalidation_1-auc:0.793807\n",
      "[402]\tvalidation_0-auc:0.980799\tvalidation_1-auc:0.793345\n",
      "[403]\tvalidation_0-auc:0.980854\tvalidation_1-auc:0.793345\n",
      "[404]\tvalidation_0-auc:0.980989\tvalidation_1-auc:0.793285\n",
      "[405]\tvalidation_0-auc:0.981071\tvalidation_1-auc:0.793285\n",
      "[406]\tvalidation_0-auc:0.981127\tvalidation_1-auc:0.793285\n",
      "[407]\tvalidation_0-auc:0.981152\tvalidation_1-auc:0.793285\n",
      "[408]\tvalidation_0-auc:0.981159\tvalidation_1-auc:0.793286\n",
      "[409]\tvalidation_0-auc:0.981182\tvalidation_1-auc:0.793286\n",
      "[410]\tvalidation_0-auc:0.981229\tvalidation_1-auc:0.793286\n",
      "[411]\tvalidation_0-auc:0.981267\tvalidation_1-auc:0.793286\n",
      "[412]\tvalidation_0-auc:0.981312\tvalidation_1-auc:0.793286\n",
      "[413]\tvalidation_0-auc:0.98135\tvalidation_1-auc:0.793307\n",
      "[414]\tvalidation_0-auc:0.981376\tvalidation_1-auc:0.793122\n",
      "[415]\tvalidation_0-auc:0.981412\tvalidation_1-auc:0.793122\n",
      "[416]\tvalidation_0-auc:0.981468\tvalidation_1-auc:0.792908\n",
      "[417]\tvalidation_0-auc:0.9815\tvalidation_1-auc:0.792908\n",
      "[418]\tvalidation_0-auc:0.981537\tvalidation_1-auc:0.792908\n",
      "[419]\tvalidation_0-auc:0.98156\tvalidation_1-auc:0.792556\n",
      "[420]\tvalidation_0-auc:0.981593\tvalidation_1-auc:0.792556\n",
      "[421]\tvalidation_0-auc:0.981614\tvalidation_1-auc:0.792556\n",
      "[422]\tvalidation_0-auc:0.981635\tvalidation_1-auc:0.792556\n",
      "[423]\tvalidation_0-auc:0.981654\tvalidation_1-auc:0.792202\n",
      "[424]\tvalidation_0-auc:0.981663\tvalidation_1-auc:0.791992\n",
      "[425]\tvalidation_0-auc:0.981687\tvalidation_1-auc:0.791862\n",
      "[426]\tvalidation_0-auc:0.981726\tvalidation_1-auc:0.791862\n",
      "[427]\tvalidation_0-auc:0.981746\tvalidation_1-auc:0.791851\n"
     ]
    },
    {
     "name": "stdout",
     "output_type": "stream",
     "text": [
      "[428]\tvalidation_0-auc:0.981755\tvalidation_1-auc:0.791811\n",
      "[429]\tvalidation_0-auc:0.981785\tvalidation_1-auc:0.791811\n",
      "[430]\tvalidation_0-auc:0.981798\tvalidation_1-auc:0.791799\n",
      "[431]\tvalidation_0-auc:0.981807\tvalidation_1-auc:0.791656\n",
      "[432]\tvalidation_0-auc:0.981824\tvalidation_1-auc:0.79157\n",
      "[433]\tvalidation_0-auc:0.981839\tvalidation_1-auc:0.791398\n",
      "[434]\tvalidation_0-auc:0.981857\tvalidation_1-auc:0.791513\n",
      "[435]\tvalidation_0-auc:0.98191\tvalidation_1-auc:0.791295\n",
      "[436]\tvalidation_0-auc:0.981952\tvalidation_1-auc:0.791295\n",
      "[437]\tvalidation_0-auc:0.981987\tvalidation_1-auc:0.791295\n",
      "[438]\tvalidation_0-auc:0.982008\tvalidation_1-auc:0.790701\n",
      "[439]\tvalidation_0-auc:0.982041\tvalidation_1-auc:0.790701\n",
      "[440]\tvalidation_0-auc:0.982073\tvalidation_1-auc:0.790701\n",
      "[441]\tvalidation_0-auc:0.982091\tvalidation_1-auc:0.790627\n",
      "[442]\tvalidation_0-auc:0.982108\tvalidation_1-auc:0.790625\n",
      "[443]\tvalidation_0-auc:0.98213\tvalidation_1-auc:0.789787\n",
      "[444]\tvalidation_0-auc:0.982147\tvalidation_1-auc:0.789415\n",
      "[445]\tvalidation_0-auc:0.98217\tvalidation_1-auc:0.789415\n",
      "[446]\tvalidation_0-auc:0.982174\tvalidation_1-auc:0.789241\n",
      "[447]\tvalidation_0-auc:0.982276\tvalidation_1-auc:0.789227\n",
      "[448]\tvalidation_0-auc:0.982418\tvalidation_1-auc:0.789093\n",
      "[449]\tvalidation_0-auc:0.982435\tvalidation_1-auc:0.789039\n",
      "[450]\tvalidation_0-auc:0.982452\tvalidation_1-auc:0.789039\n",
      "[451]\tvalidation_0-auc:0.982469\tvalidation_1-auc:0.789039\n",
      "[452]\tvalidation_0-auc:0.982528\tvalidation_1-auc:0.788993\n",
      "[453]\tvalidation_0-auc:0.98254\tvalidation_1-auc:0.788931\n",
      "[454]\tvalidation_0-auc:0.982538\tvalidation_1-auc:0.788934\n",
      "[455]\tvalidation_0-auc:0.98257\tvalidation_1-auc:0.788934\n",
      "[456]\tvalidation_0-auc:0.98257\tvalidation_1-auc:0.788938\n",
      "[457]\tvalidation_0-auc:0.982598\tvalidation_1-auc:0.788938\n",
      "[458]\tvalidation_0-auc:0.98261\tvalidation_1-auc:0.78886\n",
      "[459]\tvalidation_0-auc:0.982619\tvalidation_1-auc:0.788469\n",
      "[460]\tvalidation_0-auc:0.982629\tvalidation_1-auc:0.788375\n",
      "[461]\tvalidation_0-auc:0.982662\tvalidation_1-auc:0.788375\n",
      "[462]\tvalidation_0-auc:0.982663\tvalidation_1-auc:0.788381\n",
      "[463]\tvalidation_0-auc:0.982687\tvalidation_1-auc:0.78834\n",
      "[464]\tvalidation_0-auc:0.982694\tvalidation_1-auc:0.788222\n",
      "[465]\tvalidation_0-auc:0.982712\tvalidation_1-auc:0.788186\n",
      "[466]\tvalidation_0-auc:0.982715\tvalidation_1-auc:0.788182\n",
      "[467]\tvalidation_0-auc:0.982736\tvalidation_1-auc:0.788182\n",
      "[468]\tvalidation_0-auc:0.982739\tvalidation_1-auc:0.78836\n",
      "[469]\tvalidation_0-auc:0.982777\tvalidation_1-auc:0.78836\n",
      "[470]\tvalidation_0-auc:0.982792\tvalidation_1-auc:0.788322\n",
      "[471]\tvalidation_0-auc:0.982822\tvalidation_1-auc:0.788229\n",
      "[472]\tvalidation_0-auc:0.982833\tvalidation_1-auc:0.788347\n",
      "[473]\tvalidation_0-auc:0.982871\tvalidation_1-auc:0.788266\n",
      "[474]\tvalidation_0-auc:0.982885\tvalidation_1-auc:0.788036\n",
      "[475]\tvalidation_0-auc:0.982911\tvalidation_1-auc:0.788036\n",
      "[476]\tvalidation_0-auc:0.982949\tvalidation_1-auc:0.787906\n",
      "[477]\tvalidation_0-auc:0.982984\tvalidation_1-auc:0.787906\n",
      "[478]\tvalidation_0-auc:0.982988\tvalidation_1-auc:0.787795\n",
      "[479]\tvalidation_0-auc:0.983012\tvalidation_1-auc:0.787795\n",
      "[480]\tvalidation_0-auc:0.983057\tvalidation_1-auc:0.787796\n",
      "[481]\tvalidation_0-auc:0.983091\tvalidation_1-auc:0.787712\n",
      "[482]\tvalidation_0-auc:0.983098\tvalidation_1-auc:0.787715\n",
      "[483]\tvalidation_0-auc:0.983114\tvalidation_1-auc:0.787714\n",
      "[484]\tvalidation_0-auc:0.983226\tvalidation_1-auc:0.787731\n",
      "[485]\tvalidation_0-auc:0.98324\tvalidation_1-auc:0.787731\n",
      "[486]\tvalidation_0-auc:0.98324\tvalidation_1-auc:0.787702\n",
      "[487]\tvalidation_0-auc:0.983253\tvalidation_1-auc:0.787834\n",
      "[488]\tvalidation_0-auc:0.983274\tvalidation_1-auc:0.787834\n",
      "[489]\tvalidation_0-auc:0.983285\tvalidation_1-auc:0.787834\n",
      "[490]\tvalidation_0-auc:0.983321\tvalidation_1-auc:0.787834\n",
      "[491]\tvalidation_0-auc:0.983343\tvalidation_1-auc:0.787834\n",
      "[492]\tvalidation_0-auc:0.983478\tvalidation_1-auc:0.787844\n",
      "[493]\tvalidation_0-auc:0.983501\tvalidation_1-auc:0.787844\n",
      "[494]\tvalidation_0-auc:0.983525\tvalidation_1-auc:0.787714\n",
      "[495]\tvalidation_0-auc:0.98354\tvalidation_1-auc:0.787663\n",
      "[496]\tvalidation_0-auc:0.98356\tvalidation_1-auc:0.787511\n",
      "[497]\tvalidation_0-auc:0.983575\tvalidation_1-auc:0.786919\n",
      "[498]\tvalidation_0-auc:0.983597\tvalidation_1-auc:0.786973\n",
      "[499]\tvalidation_0-auc:0.98361\tvalidation_1-auc:0.786923\n",
      "AUC: 69.39%\n"
     ]
    },
    {
     "data": {
      "image/png": "[encoded data removed]",
      "text/plain": [
       "<matplotlib.figure.Figure at 0x1a112ea1d0>"
      ]
     },
     "metadata": {
      "image/png": {
       "height": 263,
       "width": 400
      }
     },
     "output_type": "display_data"
    }
   ],
   "source": [
    "# plot learning curve\n",
    "from xgboost import XGBClassifier\n",
    "from sklearn.model_selection import train_test_split\n",
    "from sklearn.metrics import accuracy_score\n",
    "from matplotlib import pyplot\n",
    "from sklearn.grid_search import GridSearchCV\n",
    "\n",
    "\n",
    "# parameters = {'learning_rate': [0.005,0.01,0.025,0.05],\n",
    "#               'max_depth': [4,6,8,10],\n",
    "#               'min_child_weight': [2,4,6,8,10],\n",
    "#               'gamma': [1,2,4,6,8,10,12],\n",
    "#               'subsample': [0.7,0.75,0.8,0.85],\n",
    "#               'colsample_bytree': [0.15,0.3,0.45,0.6,0.85],\n",
    "#               'n_estimators': [500]} #number of trees, change it to 1000 for better results}\n",
    "\n",
    "# fit model\n",
    "model = XGBClassifier(max_depth=5, learning_rate=0.025, n_estimators=500, silent=True, \\\n",
    "                      objective='binary:logistic', booster='gbtree', n_jobs=1, nthread=None, \\\n",
    "                      gamma=0.65, min_child_weight=10, max_delta_step=1.8, subsample=0.8, colsample_bytree=0.4, \\\n",
    "                      colsample_bylevel=1, reg_alpha=0, reg_lambda=1, scale_pos_weight=1, base_score=0.5, \\\n",
    "                      random_state=2, seed=None, missing=None)\n",
    "\n",
    "# estimator = XGBClassifier()\n",
    "# model = GridSearchCV(estimator,parameters, n_jobs=-1,cv=5,verbose=True,scoring='roc_auc')\n",
    "\n",
    "eval_set = [(weighted_X,res_y), (np.array(weighted_X_test),np.array(y_test))]\n",
    "model.fit(weighted_X,res_y, eval_metric=[\"auc\"], eval_set=eval_set, verbose=True)#,early_stopping_rounds=50)\n",
    "\n",
    "#make predictions for test data\n",
    "y_pred = model.predict(np.array(weighted_X_test))\n",
    "predictions = [round(value) for value in y_pred]\n",
    "\n",
    "# evaluate predictions\n",
    "from sklearn.metrics import roc_auc_score\n",
    "auc = roc_auc_score(np.array(y_test), predictions)\n",
    "\n",
    "print(\"AUC: %.2f%%\" % (auc * 100.0))\n",
    "\n",
    "# retrieve performance metrics\n",
    "results = model.evals_result()\n",
    "epochs = len(results['validation_0']['auc'])\n",
    "x_axis = range(0, epochs)\n",
    "\n",
    "# plot auc\n",
    "fig, ax = pyplot.subplots()\n",
    "ax.plot(x_axis, results['validation_0']['auc'], label='Train')\n",
    "ax.plot(x_axis, results['validation_1']['auc'], label='Test')\n",
    "ax.legend()\n",
    "pyplot.ylabel('AUC')\n",
    "pyplot.title('XGBoost AUC')\n",
    "pyplot.show()\n",
    "\n"
   ]
  },
  {
   "cell_type": "markdown",
   "metadata": {
    "collapsed": true
   },
   "source": [
    "# Random Forest Classifier"
   ]
  },
  {
   "cell_type": "code",
   "execution_count": 19,
   "metadata": {},
   "outputs": [
    {
     "name": "stdout",
     "output_type": "stream",
     "text": [
      "Fitting 3 folds for each of 120 candidates, totalling 360 fits\n"
     ]
    },
    {
     "name": "stderr",
     "output_type": "stream",
     "text": [
      "[Parallel(n_jobs=-1)]: Done  42 tasks      | elapsed:  5.9min\n",
      "[Parallel(n_jobs=-1)]: Done 192 tasks      | elapsed: 39.2min\n",
      "[Parallel(n_jobs=-1)]: Done 360 out of 360 | elapsed: 100.0min finished\n"
     ]
    },
    {
     "data": {
      "text/plain": [
       "GridSearchCV(cv=3, error_score='raise',\n",
       "       estimator=RandomForestClassifier(bootstrap=True, class_weight=None, criterion='gini',\n",
       "            max_depth=None, max_features='auto', max_leaf_nodes=None,\n",
       "            min_impurity_decrease=0.0, min_impurity_split=None,\n",
       "            min_samples_leaf=1, min_samples_split=2,\n",
       "            min_weight_fraction_leaf=0.0, n_estimators=10, n_jobs=1,\n",
       "            oob_score=False, random_state=6, verbose=0, warm_start=False),\n",
       "       fit_params={}, iid=True, n_jobs=-1,\n",
       "       param_grid={'n_estimators': [500], 'max_depth': [1, 2, 3, 4], 'max_features': ['log2', 'sqrt', 2, 3, 4, 5], 'min_samples_split': [2, 3, 4, 5, 10]},\n",
       "       pre_dispatch='2*n_jobs', refit=True, scoring='roc_auc', verbose=1)"
      ]
     },
     "execution_count": 19,
     "metadata": {},
     "output_type": "execute_result"
    }
   ],
   "source": [
    "rfc_params = {\n",
    "    'n_estimators':[500],\n",
    "    'max_depth':[1,2,3,4],\n",
    "    'max_features':['log2','sqrt',2,3,4,5],\n",
    "    'min_samples_split':[2,3,4,5,10]\n",
    "}\n",
    "\n",
    "\n",
    "rfc_gs = GridSearchCV(RandomForestClassifier(random_state=6), \\\n",
    "                      rfc_params, cv=3, verbose=1,n_jobs=-1,scoring='roc_auc')\n",
    "\n",
    "\n",
    "rfc_gs.fit(weighted_X, res_y)"
   ]
  },
  {
   "cell_type": "code",
   "execution_count": 23,
   "metadata": {},
   "outputs": [
    {
     "data": {
      "text/plain": [
       "['rfc_model.pkl']"
      ]
     },
     "execution_count": 23,
     "metadata": {},
     "output_type": "execute_result"
    }
   ],
   "source": [
    "joblib.dump(rfc_gs, 'rfc_model.pkl')"
   ]
  },
  {
   "cell_type": "code",
   "execution_count": 24,
   "metadata": {},
   "outputs": [
    {
     "name": "stdout",
     "output_type": "stream",
     "text": [
      "Random Forest Classifier\n",
      "\n",
      "Training Score: 0.927664231492223\n",
      "\n",
      "Test Score: 0.8379664927311382\n"
     ]
    }
   ],
   "source": [
    "print ('Random Forest Classifier')\n",
    "print()\n",
    "print ('Training Score: {}'.format(rfc_gs.score(weighted_X,res_y)))   # training score\n",
    "print ()\n",
    "print ('Test Score: {}'.format(rfc_gs.score(weighted_X_test,y_test)))   # test score"
   ]
  },
  {
   "cell_type": "markdown",
   "metadata": {},
   "source": [
    "# Kaggle Submission"
   ]
  },
  {
   "cell_type": "code",
   "execution_count": 25,
   "metadata": {
    "collapsed": true
   },
   "outputs": [],
   "source": [
    "# test_predict = rfc_gs.best_estimator_.predict_proba(weighted_test)\n",
    "# test_predict = pd.DataFrame(test_predict)[1]"
   ]
  },
  {
   "cell_type": "code",
   "execution_count": 26,
   "metadata": {
    "collapsed": true
   },
   "outputs": [],
   "source": [
    "# submission = pd.DataFrame(np.arange(1, len(test_predict) + 1))\n",
    "# submission[1] = test_predict\n",
    "# submission = submission.rename({0:'Id',1:'Probability'},axis=1)"
   ]
  },
  {
   "cell_type": "code",
   "execution_count": 27,
   "metadata": {
    "collapsed": true
   },
   "outputs": [],
   "source": [
    "# submission.set_index('Id').to_csv('submission_rfc_gs.csv')"
   ]
  },
  {
   "cell_type": "markdown",
   "metadata": {},
   "source": [
    "# Support Vector Machine"
   ]
  },
  {
   "cell_type": "code",
   "execution_count": null,
   "metadata": {},
   "outputs": [
    {
     "name": "stdout",
     "output_type": "stream",
     "text": [
      "Fitting 3 folds for each of 200 candidates, totalling 600 fits\n"
     ]
    }
   ],
   "source": [
    "svc_params = {\n",
    "    'C':np.logspace(-3, 2, 10),\n",
    "    'gamma':np.logspace(-5, 2, 10),\n",
    "    'kernel':['linear','rbf']\n",
    "}\n",
    "\n",
    "svc_gs = GridSearchCV(SVC(random_state=2), svc_params, cv=3, verbose=1,n_jobs=-1)\n",
    "svc_gs.fit(weighted_X, res_y)"
   ]
  },
  {
   "cell_type": "code",
   "execution_count": null,
   "metadata": {
    "collapsed": true
   },
   "outputs": [],
   "source": [
    "joblib.dump(svc_gs, 'svm_model.pkl')"
   ]
  },
  {
   "cell_type": "code",
   "execution_count": null,
   "metadata": {
    "collapsed": true
   },
   "outputs": [],
   "source": [
    "print ('Support Vector Machine')\n",
    "print()\n",
    "print ('Training Score: {}'.format(svc_gs.score(weighted_X,res_y)))   # training score\n",
    "print ()\n",
    "print ('Test Score: {}'.format(svc_gs.score(weighted_X_test,y_test)))   # test score"
   ]
  },
  {
   "cell_type": "code",
   "execution_count": null,
   "metadata": {
    "collapsed": true
   },
   "outputs": [],
   "source": []
  },
  {
   "cell_type": "code",
   "execution_count": null,
   "metadata": {
    "collapsed": true
   },
   "outputs": [],
   "source": []
  }
 ],
 "metadata": {
  "kernelspec": {
   "display_name": "Python 3",
   "language": "python",
   "name": "python3"
  },
  "language_info": {
   "codemirror_mode": {
    "name": "ipython",
    "version": 3
   },
   "file_extension": ".py",
   "mimetype": "text/x-python",
   "name": "python",
   "nbconvert_exporter": "python",
   "pygments_lexer": "ipython3",
   "version": "3.6.3"
  }
 },
 "nbformat": 4,
 "nbformat_minor": 2
}
