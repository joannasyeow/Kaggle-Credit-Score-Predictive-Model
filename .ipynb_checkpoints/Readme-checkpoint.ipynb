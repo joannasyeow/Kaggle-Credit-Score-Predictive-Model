{
 "cells": [
  {
   "cell_type": "markdown",
   "metadata": {},
   "source": [
    "# Give Me Some Credit"
   ]
  },
  {
   "cell_type": "markdown",
   "metadata": {},
   "source": [
    "This competition requires participants to improve on the state of the art in credit scoring, by predicting the probability that somebody will experience financial distress in the next two years.\n",
    "\n",
    "The goal of this competition is to build a model that borrowers can use to help make the best financial decisions."
   ]
  },
  {
   "cell_type": "markdown",
   "metadata": {
    "collapsed": true
   },
   "source": [
    "There are a total of 4 notebooks for this project in the order of:\n",
    "1. [Data Cleaning](https://github.com/joannasys/Kaggle---Credit/blob/master/1_Data%20Cleaning.ipynb)\n",
    "2. [EDA (Exploratory Data Analysis)](https://github.com/joannasys/Kaggle---Credit/blob/master/2_EDA.ipynb)\n",
    "3. [Data Preprocessing](https://github.com/joannasys/Kaggle---Credit/blob/master/3_Data%20Preprocessing.ipynb)\n",
    "4. [Data Modeling](https://github.com/joannasys/Kaggle---Credit/blob/master/4_Data%20Modeling.ipynb)"
   ]
  },
  {
   "cell_type": "markdown",
   "metadata": {},
   "source": [
    "Note: You may run the notebooks in the order above to reproduce the same results. .csv files in the Submissions folder will already be in the format for Kaggle submission. "
   ]
  },
  {
   "cell_type": "markdown",
   "metadata": {},
   "source": [
    "Here's a quick summary on the project workflow:"
   ]
  },
  {
   "cell_type": "markdown",
   "metadata": {},
   "source": [
    "<img src='https://i.imgur.com/PZYKh0L.png'>"
   ]
  },
  {
   "cell_type": "markdown",
   "metadata": {},
   "source": [
    "## Understanding the data"
   ]
  },
  {
   "cell_type": "markdown",
   "metadata": {},
   "source": [
    "The very first step to a machine learning workflow is to understand:\n",
    "1. The problem that you are trying to solve\n",
    "2. The objective of the project\n",
    "3. The data you have"
   ]
  },
  {
   "cell_type": "markdown",
   "metadata": {},
   "source": [
    "The problem we are trying to solve here is that borrowers do not have a good understanding of whether they are in the right position to continue borrowing. The objective of the project is to predict the probability of an individual experiencing financial distress in the next 2 years based on his or her current financial state."
   ]
  },
  {
   "cell_type": "markdown",
   "metadata": {},
   "source": [
    "Traditionally, banks uses credit scoring to analyse an individual's creditworthiness. A quick desk research provided the following information:\n",
    "\n",
    "Biggest 5 factors that affects credit scoring:\n",
    "1. Payment History – 35% of credit score\n",
    "2. Amounts Owed – 30% of credit score\n",
    "3. Length of Credit History – 15% of credit score\n",
    "4. New Credit – 10% of credit score\n",
    "5. Types of Credit In Use – 10% of credit score\n",
    "\n",
    "Source: https://www.investopedia.com/articles/pf/10/credit-score-factors.asp"
   ]
  },
  {
   "cell_type": "markdown",
   "metadata": {},
   "source": [
    "Code in [Data Cleaning](https://github.com/joannasys/Kaggle---Credit/blob/master/1_Data%20Cleaning.ipynb)"
   ]
  },
  {
   "cell_type": "markdown",
   "metadata": {},
   "source": [
    "#### Data Dictionary"
   ]
  },
  {
   "cell_type": "markdown",
   "metadata": {},
   "source": [
    "<div class=\"output_subarea output_html rendered_html output_result\"><div>\n",
    "\n",
    "<table border=\"1\" class=\"dataframe\">\n",
    "  <thead>\n",
    "    <tr style=\"text-align: right;\">\n",
    "      <th></th>\n",
    "      <th>Variable Name</th>\n",
    "      <th>Description</th>\n",
    "      <th>Type</th>\n",
    "    </tr>\n",
    "  </thead>\n",
    "  <tbody>\n",
    "    <tr>\n",
    "      <th>0</th>\n",
    "      <td>SeriousDlqin2yrs</td>\n",
    "      <td>Person experienced 90 days past due delinquency or worse</td>\n",
    "      <td>Y/N</td>\n",
    "    </tr>\n",
    "    <tr>\n",
    "      <th>1</th>\n",
    "      <td>RevolvingUtilizationOfUnsecuredLines</td>\n",
    "      <td>Total balance on credit cards and personal lines of credit except real estate and no installment debt like car loans divided by the sum of credit limits</td>\n",
    "      <td>percentage</td>\n",
    "    </tr>\n",
    "    <tr>\n",
    "      <th>2</th>\n",
    "      <td>age</td>\n",
    "      <td>Age of borrower in years</td>\n",
    "      <td>integer</td>\n",
    "    </tr>\n",
    "    <tr>\n",
    "      <th>3</th>\n",
    "      <td>NumberOfTime30-59DaysPastDueNotWorse</td>\n",
    "      <td>Number of times borrower has been 30-59 days past due but no worse in the last 2 years.</td>\n",
    "      <td>integer</td>\n",
    "    </tr>\n",
    "    <tr>\n",
    "      <th>4</th>\n",
    "      <td>DebtRatio</td>\n",
    "      <td>Monthly debt payments, alimony,living costs divided by monthy gross income</td>\n",
    "      <td>percentage</td>\n",
    "    </tr>\n",
    "    <tr>\n",
    "      <th>5</th>\n",
    "      <td>MonthlyIncome</td>\n",
    "      <td>Monthly income</td>\n",
    "      <td>real</td>\n",
    "    </tr>\n",
    "    <tr>\n",
    "      <th>6</th>\n",
    "      <td>NumberOfOpenCreditLinesAndLoans</td>\n",
    "      <td>Number of Open loans (installment like car loan or mortgage) and Lines of credit (e.g. credit cards)</td>\n",
    "      <td>integer</td>\n",
    "    </tr>\n",
    "    <tr>\n",
    "      <th>7</th>\n",
    "      <td>NumberOfTimes90DaysLate</td>\n",
    "      <td>Number of times borrower has been 90 days or more past due.</td>\n",
    "      <td>integer</td>\n",
    "    </tr>\n",
    "    <tr>\n",
    "      <th>8</th>\n",
    "      <td>NumberRealEstateLoansOrLines</td>\n",
    "      <td>Number of mortgage and real estate loans including home equity lines of credit</td>\n",
    "      <td>integer</td>\n",
    "    </tr>\n",
    "    <tr>\n",
    "      <th>9</th>\n",
    "      <td>NumberOfTime60-89DaysPastDueNotWorse</td>\n",
    "      <td>Number of times borrower has been 60-89 days past due but no worse in the last 2 years.</td>\n",
    "      <td>integer</td>\n",
    "    </tr>\n",
    "    <tr>\n",
    "      <th>10</th>\n",
    "      <td>NumberOfDependents</td>\n",
    "      <td>Number of dependents in family excluding themselves (spouse, children etc.)</td>\n",
    "      <td>integer</td>\n",
    "    </tr>\n",
    "  </tbody>\n",
    "</table>\n",
    "</div></div>"
   ]
  },
  {
   "cell_type": "markdown",
   "metadata": {},
   "source": [
    "A quick look at our data dictionary, we have columns that are under the category of Payment History i.e. NumberOfTime30-59DaysPastDueNotWorse, and Amounts Owed i.e. RevolvingUtilizationOfUnsecuredLines - which is the top 2 factors that affects credit scoring."
   ]
  },
  {
   "cell_type": "markdown",
   "metadata": {},
   "source": [
    "## Cleaning the data"
   ]
  },
  {
   "cell_type": "markdown",
   "metadata": {},
   "source": [
    "There are a total of 150000 rows in our dataset. However, there are some NaN values in some columns. NaN values will be problematic as most algorithms do not work well with empty cells and would result in error. \n",
    "\n",
    "There are many ways to deal with NaN values: \n",
    "1. Drop the rows/columns entirely\n",
    "2. Impute NaN values with\n",
    "    * Mean or Median of the column\n",
    "    * Other imputation methods such as KNN or SVD"
   ]
  },
  {
   "cell_type": "markdown",
   "metadata": {},
   "source": [
    "Code in [Data Cleaning](https://github.com/joannasys/Kaggle---Credit/blob/master/1_Data%20Cleaning.ipynb)"
   ]
  },
  {
   "cell_type": "markdown",
   "metadata": {},
   "source": [
    "## Analyse the data"
   ]
  },
  {
   "cell_type": "markdown",
   "metadata": {},
   "source": [
    "Deep dive into each column of our data. What do our data tell us? "
   ]
  },
  {
   "cell_type": "markdown",
   "metadata": {},
   "source": [
    "In summary, we found out that there are some extreme outliers in our dataset that would seem to be abnormal in the real world. Such abnormal data would cause skewness in our data distribution. Instead of dropping the rows completely (except for some really extreme ones), I replaced them with the median of the column so that we can still preseve some of the information from other columns."
   ]
  },
  {
   "cell_type": "markdown",
   "metadata": {},
   "source": [
    "We also found out that Utilization Of Unsecured Lines has the most predictive power in this dataset. This information correspond with the top 2 factors that affect credit scoring."
   ]
  },
  {
   "cell_type": "markdown",
   "metadata": {},
   "source": [
    "Have a look in details at notebook: [EDA (Exploratory Data Analysis)](https://github.com/joannasys/Kaggle---Credit/blob/master/2_EDA.ipynb)"
   ]
  },
  {
   "cell_type": "markdown",
   "metadata": {},
   "source": [
    "## Prepare the data"
   ]
  },
  {
   "cell_type": "markdown",
   "metadata": {},
   "source": [
    "### Train Test Split"
   ]
  },
  {
   "cell_type": "markdown",
   "metadata": {},
   "source": [
    "Train Test Split is essential to prevent overfitting of our data. I will set aside 30% of our training data as our test set. Even though we have a large number of dataset, imbalanced class is present. Hence, we would use the cross validation method on the other 70% of the dataset for training."
   ]
  },
  {
   "cell_type": "markdown",
   "metadata": {},
   "source": [
    "<img src = 'http://www.ds100.org/sp17/assets/notebooks/linear_regression/train_test_split.png'><br>\n",
    "Source: http://www.ds100.org/sp17/assets/notebooks/linear_regression/train_test_split.png"
   ]
  },
  {
   "cell_type": "markdown",
   "metadata": {},
   "source": [
    "### Data Scaling"
   ]
  },
  {
   "cell_type": "markdown",
   "metadata": {},
   "source": [
    "Based on our EDA, there are outliers present in our data set. Hence, I have chosen to use Robust Scaler to scale the data. Robust scaler centers and scale the data based on percentiles thus it would not be largely affected by extreme outliers, yet at the same time still preserves data distribution."
   ]
  },
  {
   "cell_type": "markdown",
   "metadata": {},
   "source": [
    "### Imbalanced Dataset Resampling"
   ]
  },
  {
   "cell_type": "markdown",
   "metadata": {},
   "source": [
    "We clearly have an imbalanced dataset as the number of positive class is only 6.7% (Positive (1) class being the person experienced 90 days past due delinquency)"
   ]
  },
  {
   "cell_type": "markdown",
   "metadata": {},
   "source": [
    "<img src=\"https://i.imgur.com/wXDSppu.png?1\">"
   ]
  },
  {
   "cell_type": "markdown",
   "metadata": {},
   "source": [
    "There are various ways to resample an imbalanced dataset:\n",
    "1. SMOTEEN\n",
    "2. Undersampling majority class\n",
    "3. Oversampling minority class\n",
    "4. Cost Sensitivity\n",
    "5. Easy ensemble / Balance Cascade\n",
    "\n",
    "imblearn is a library that consist of various ways on resampling methods. This paper https://arxiv.org/pdf/1608.06048.pdf provides a good visualisation and overview of various resampling methods and how they affect scoring of a model. "
   ]
  },
  {
   "cell_type": "markdown",
   "metadata": {},
   "source": [
    "Code in [Data Preprocessing](https://github.com/joannasys/Kaggle---Credit/blob/master/3_Data%20Preprocessing.ipynb)"
   ]
  },
  {
   "cell_type": "markdown",
   "metadata": {},
   "source": [
    "# Modeling"
   ]
  },
  {
   "cell_type": "markdown",
   "metadata": {},
   "source": [
    "### Evaluation Metric"
   ]
  },
  {
   "cell_type": "markdown",
   "metadata": {},
   "source": [
    "Why is AUC chosen to be the evalutation metric?\n",
    "\n",
    "In a binary classification, there will be 4 outcomes from our results:\n",
    "1. True Positive - Predicted positive when it is positive in fact\n",
    "2. True Negative - Predicted negative when it is negative in fact\n",
    "3. False Positive - Predicted positive when it is negative in fact (false alarm)\n",
    "4. False Negative - Predicted negative when it is positive in fact (failed to detect financial distress)"
   ]
  },
  {
   "cell_type": "markdown",
   "metadata": {},
   "source": [
    "We have a very imbalanced dataset with only 6.7% positive result. If we create a dumb classifier that only predicts negative class, we will achieve accuracy of 93.3% without doing much! Hence, accuracy will not be a good evaluation metric for this project. We want a metric that evaluates the performance of the positive and the negative classes."
   ]
  },
  {
   "cell_type": "markdown",
   "metadata": {},
   "source": [
    "AUC on the other hand evaluates the classifier as compared to random choice (AUC = 0.5). TPR = ratio of true positive to all predicted positives, FPR = ratio of false positives to all predicted negatives. It measures the trade off between TPR and FPR along a range of threshold."
   ]
  },
  {
   "cell_type": "markdown",
   "metadata": {},
   "source": [
    "### Feature Selection"
   ]
  },
  {
   "cell_type": "markdown",
   "metadata": {},
   "source": [
    "I have used decision tree to find out the feature importance of each columns. With that, I used it as weights by multipying it into the values. "
   ]
  },
  {
   "cell_type": "markdown",
   "metadata": {},
   "source": [
    "## Models used"
   ]
  },
  {
   "cell_type": "markdown",
   "metadata": {},
   "source": [
    "### Logistic Regression"
   ]
  },
  {
   "cell_type": "markdown",
   "metadata": {},
   "source": [
    "Training Score: <b>0.836</b>\n",
    "<br>Test Score: <b>0.933</b>\n",
    "<br>Kaggle Submission Score: (below)"
   ]
  },
  {
   "cell_type": "markdown",
   "metadata": {},
   "source": [
    "<img src=\"https://i.imgur.com/weWdohG.png\">"
   ]
  },
  {
   "cell_type": "markdown",
   "metadata": {},
   "source": [
    "### Random Forest Classifier"
   ]
  },
  {
   "cell_type": "markdown",
   "metadata": {},
   "source": [
    "Training Score: <b>0.928</b>\n",
    "<br>Test Score: <b>0.838</b>\n",
    "<br>Kaggle Submission Score: (below)"
   ]
  },
  {
   "cell_type": "markdown",
   "metadata": {},
   "source": [
    "<img src=\"https://i.imgur.com/fdYGKdb.png\">"
   ]
  },
  {
   "cell_type": "markdown",
   "metadata": {},
   "source": [
    "### XGBoost"
   ]
  },
  {
   "cell_type": "markdown",
   "metadata": {},
   "source": [
    "Training Score: <b>0.872</b>\n",
    "<br>Test Score: <b>0.868</b>\n",
    "<br>Kaggle Submission Score: (below)"
   ]
  },
  {
   "cell_type": "markdown",
   "metadata": {},
   "source": [
    "<img src=\"https://i.imgur.com/UV98JuJ.png\">"
   ]
  },
  {
   "cell_type": "markdown",
   "metadata": {},
   "source": [
    "Code in [Data Modeling](https://github.com/joannasys/Kaggle---Credit/blob/master/4_Data%20Modeling.ipynb)"
   ]
  },
  {
   "cell_type": "markdown",
   "metadata": {},
   "source": [
    "## If I had more resources, I would try..."
   ]
  },
  {
   "cell_type": "markdown",
   "metadata": {},
   "source": [
    "1. Imputing NaN values / outliers with imputation methods such as KNN. There is a useful library - FancyImpute that has many different imputation methods. I would love to read more into the research papers behind it. \n",
    "2. Spend more time analysing and understanding the data.\n",
    "3. Try out various resampling methods and visualise how it affects the classification of our target variable.\n",
    "4. Use SKLearn's RFECV (Recursive feature elimination with cross-validation) for feature selection.\n",
    "5. Try out anomaly detection methods (such as isolation forest, one class SVM)."
   ]
  },
  {
   "cell_type": "code",
   "execution_count": null,
   "metadata": {
    "collapsed": true
   },
   "outputs": [],
   "source": []
  }
 ],
 "metadata": {
  "kernelspec": {
   "display_name": "Python 3",
   "language": "python",
   "name": "python3"
  },
  "language_info": {
   "codemirror_mode": {
    "name": "ipython",
    "version": 3
   },
   "file_extension": ".py",
   "mimetype": "text/x-python",
   "name": "python",
   "nbconvert_exporter": "python",
   "pygments_lexer": "ipython3",
   "version": "3.6.3"
  }
 },
 "nbformat": 4,
 "nbformat_minor": 2
}
