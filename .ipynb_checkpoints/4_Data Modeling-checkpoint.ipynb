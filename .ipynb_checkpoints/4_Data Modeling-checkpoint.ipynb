{
 "cells": [
  {
   "cell_type": "markdown",
   "metadata": {},
   "source": [
    "# Feature Selection & Modelling"
   ]
  },
  {
   "cell_type": "markdown",
   "metadata": {},
   "source": [
    "In this notebook, I will be using decision tree to identify the feature importance and use them as weights for the columns. Note: Cells are commented out to use the pre-trained pickled file for modelling. You may un-comment them out to re-train the model."
   ]
  },
  {
   "cell_type": "code",
   "execution_count": 1,
   "metadata": {
    "collapsed": true
   },
   "outputs": [],
   "source": [
    "# Base\n",
    "import pandas as pd\n",
    "import numpy as np\n",
    "\n",
    "# Modeling\n",
    "from sklearn.linear_model import LogisticRegressionCV\n",
    "from sklearn.tree import DecisionTreeClassifier\n",
    "from sklearn.ensemble import RandomForestClassifier\n",
    "from xgboost import XGBClassifier\n",
    "\n",
    "from sklearn.model_selection import GridSearchCV\n",
    "\n",
    "from sklearn.externals import joblib\n",
    "\n",
    "%config InlineBackend.figure_format = 'retina'\n",
    "%matplotlib inline"
   ]
  },
  {
   "cell_type": "code",
   "execution_count": 3,
   "metadata": {
    "collapsed": true
   },
   "outputs": [],
   "source": [
    "training = pd.read_pickle('datasets/eda_training.pickle')\n",
    "test = pd.read_pickle('datasets/eda_test.pickle')\n",
    "data_dict = pd.read_pickle('datadict/data_dict.pickle')"
   ]
  },
  {
   "cell_type": "code",
   "execution_count": 4,
   "metadata": {},
   "outputs": [
    {
     "data": {
      "text/html": [
       "<div>\n",
       "<style scoped>\n",
       "    .dataframe tbody tr th:only-of-type {\n",
       "        vertical-align: middle;\n",
       "    }\n",
       "\n",
       "    .dataframe tbody tr th {\n",
       "        vertical-align: top;\n",
       "    }\n",
       "\n",
       "    .dataframe thead th {\n",
       "        text-align: right;\n",
       "    }\n",
       "</style>\n",
       "<table border=\"1\" class=\"dataframe\">\n",
       "  <thead>\n",
       "    <tr style=\"text-align: right;\">\n",
       "      <th></th>\n",
       "      <th>Variable Name</th>\n",
       "      <th>Description</th>\n",
       "      <th>Type</th>\n",
       "      <th>New Column Names</th>\n",
       "    </tr>\n",
       "  </thead>\n",
       "  <tbody>\n",
       "    <tr>\n",
       "      <th>0</th>\n",
       "      <td>SeriousDlqin2yrs</td>\n",
       "      <td>Person experienced 90 days past due delinquenc...</td>\n",
       "      <td>Y/N</td>\n",
       "      <td>dlq</td>\n",
       "    </tr>\n",
       "    <tr>\n",
       "      <th>1</th>\n",
       "      <td>RevolvingUtilizationOfUnsecuredLines</td>\n",
       "      <td>Total balance on credit cards and personal lin...</td>\n",
       "      <td>percentage</td>\n",
       "      <td>util_ratio</td>\n",
       "    </tr>\n",
       "    <tr>\n",
       "      <th>2</th>\n",
       "      <td>age</td>\n",
       "      <td>Age of borrower in years</td>\n",
       "      <td>integer</td>\n",
       "      <td>age</td>\n",
       "    </tr>\n",
       "    <tr>\n",
       "      <th>3</th>\n",
       "      <td>NumberOfTime30-59DaysPastDueNotWorse</td>\n",
       "      <td>Number of times borrower has been 30-59 days p...</td>\n",
       "      <td>integer</td>\n",
       "      <td>ph_30to59</td>\n",
       "    </tr>\n",
       "    <tr>\n",
       "      <th>4</th>\n",
       "      <td>DebtRatio</td>\n",
       "      <td>Monthly debt payments, alimony,living costs di...</td>\n",
       "      <td>percentage</td>\n",
       "      <td>debtratio</td>\n",
       "    </tr>\n",
       "    <tr>\n",
       "      <th>5</th>\n",
       "      <td>MonthlyIncome</td>\n",
       "      <td>Monthly income</td>\n",
       "      <td>real</td>\n",
       "      <td>monthlyincome</td>\n",
       "    </tr>\n",
       "    <tr>\n",
       "      <th>6</th>\n",
       "      <td>NumberOfOpenCreditLinesAndLoans</td>\n",
       "      <td>Number of Open loans (installment like car loa...</td>\n",
       "      <td>integer</td>\n",
       "      <td>open_credit_loans</td>\n",
       "    </tr>\n",
       "    <tr>\n",
       "      <th>7</th>\n",
       "      <td>NumberOfTimes90DaysLate</td>\n",
       "      <td>Number of times borrower has been 90 days or m...</td>\n",
       "      <td>integer</td>\n",
       "      <td>ph_90</td>\n",
       "    </tr>\n",
       "    <tr>\n",
       "      <th>8</th>\n",
       "      <td>NumberRealEstateLoansOrLines</td>\n",
       "      <td>Number of mortgage and real estate loans inclu...</td>\n",
       "      <td>integer</td>\n",
       "      <td>realestate_lines</td>\n",
       "    </tr>\n",
       "    <tr>\n",
       "      <th>9</th>\n",
       "      <td>NumberOfTime60-89DaysPastDueNotWorse</td>\n",
       "      <td>Number of times borrower has been 60-89 days p...</td>\n",
       "      <td>integer</td>\n",
       "      <td>ph_60to89</td>\n",
       "    </tr>\n",
       "    <tr>\n",
       "      <th>10</th>\n",
       "      <td>NumberOfDependents</td>\n",
       "      <td>Number of dependents in family excluding thems...</td>\n",
       "      <td>integer</td>\n",
       "      <td>dependents</td>\n",
       "    </tr>\n",
       "  </tbody>\n",
       "</table>\n",
       "</div>"
      ],
      "text/plain": [
       "                           Variable Name  \\\n",
       "0                       SeriousDlqin2yrs   \n",
       "1   RevolvingUtilizationOfUnsecuredLines   \n",
       "2                                    age   \n",
       "3   NumberOfTime30-59DaysPastDueNotWorse   \n",
       "4                              DebtRatio   \n",
       "5                          MonthlyIncome   \n",
       "6        NumberOfOpenCreditLinesAndLoans   \n",
       "7                NumberOfTimes90DaysLate   \n",
       "8           NumberRealEstateLoansOrLines   \n",
       "9   NumberOfTime60-89DaysPastDueNotWorse   \n",
       "10                    NumberOfDependents   \n",
       "\n",
       "                                          Description        Type  \\\n",
       "0   Person experienced 90 days past due delinquenc...         Y/N   \n",
       "1   Total balance on credit cards and personal lin...  percentage   \n",
       "2                            Age of borrower in years     integer   \n",
       "3   Number of times borrower has been 30-59 days p...     integer   \n",
       "4   Monthly debt payments, alimony,living costs di...  percentage   \n",
       "5                                      Monthly income        real   \n",
       "6   Number of Open loans (installment like car loa...     integer   \n",
       "7   Number of times borrower has been 90 days or m...     integer   \n",
       "8   Number of mortgage and real estate loans inclu...     integer   \n",
       "9   Number of times borrower has been 60-89 days p...     integer   \n",
       "10  Number of dependents in family excluding thems...     integer   \n",
       "\n",
       "     New Column Names  \n",
       "0                 dlq  \n",
       "1          util_ratio  \n",
       "2                 age  \n",
       "3           ph_30to59  \n",
       "4           debtratio  \n",
       "5       monthlyincome  \n",
       "6   open_credit_loans  \n",
       "7               ph_90  \n",
       "8    realestate_lines  \n",
       "9           ph_60to89  \n",
       "10         dependents  "
      ]
     },
     "execution_count": 4,
     "metadata": {},
     "output_type": "execute_result"
    }
   ],
   "source": [
    "data_dict"
   ]
  },
  {
   "cell_type": "code",
   "execution_count": 5,
   "metadata": {
    "collapsed": true
   },
   "outputs": [],
   "source": [
    "X = training.drop('dlq',axis=1)\n",
    "y = training['dlq']"
   ]
  },
  {
   "cell_type": "code",
   "execution_count": 6,
   "metadata": {
    "collapsed": true
   },
   "outputs": [],
   "source": [
    "res_X = pd.read_pickle('datasets/SMOTE_res_x.pickle')\n",
    "res_y = pd.read_pickle('datasets/SMOTE_res_y.pickle')\n",
    "X_test = pd.read_pickle('datasets/scaled_X_test.pickle')\n",
    "y_test = pd.read_pickle('datasets/y_test.pickle')\n",
    "scaled_test = pd.read_pickle('datasets/scaled_test.pickle')"
   ]
  },
  {
   "cell_type": "code",
   "execution_count": 7,
   "metadata": {
    "collapsed": true
   },
   "outputs": [],
   "source": [
    "# Setting AUC as scoring metrics\n",
    "\n",
    "from sklearn.metrics import roc_auc_score, make_scorer\n",
    "\n",
    "def roc_auc_score_proba(y_true, proba):\n",
    "    return roc_auc_score(y_true, proba[:, 1])\n",
    "\n",
    "auc = make_scorer(roc_auc_score_proba, needs_proba=True)# Decision Tree"
   ]
  },
  {
   "cell_type": "markdown",
   "metadata": {},
   "source": [
    "# Decision Tree"
   ]
  },
  {
   "cell_type": "markdown",
   "metadata": {},
   "source": [
    "I will be using decision tree for feature selection using feature importance."
   ]
  },
  {
   "cell_type": "code",
   "execution_count": 8,
   "metadata": {
    "collapsed": true
   },
   "outputs": [],
   "source": [
    "# dtc_params = {\n",
    "#     'max_depth':[1,2,3,4,5,6,7,8],\n",
    "#     'max_features':[None,'log2','sqrt',2,3,4],\n",
    "#     'min_samples_split':[2,3,4,5,10,15,20,25]\n",
    "# }\n",
    "\n",
    "\n",
    "# dtc_gs = GridSearchCV(DecisionTreeClassifier(random_state=2), dtc_params, cv=3, verbose=1,scoring=auc)\n",
    "# dtc_gs.fit(res_X, res_y)"
   ]
  },
  {
   "cell_type": "code",
   "execution_count": 9,
   "metadata": {
    "collapsed": true
   },
   "outputs": [],
   "source": [
    "# feature_importance = dtc_gs.best_estimator_.feature_importances_"
   ]
  },
  {
   "cell_type": "code",
   "execution_count": 10,
   "metadata": {
    "collapsed": true
   },
   "outputs": [],
   "source": [
    "# feature_importance.dump('feature_importance.pickle')"
   ]
  },
  {
   "cell_type": "code",
   "execution_count": 11,
   "metadata": {
    "collapsed": true
   },
   "outputs": [],
   "source": [
    "feature_importance = pd.read_pickle('feature_importance.pickle')"
   ]
  },
  {
   "cell_type": "code",
   "execution_count": 12,
   "metadata": {},
   "outputs": [
    {
     "data": {
      "text/html": [
       "<div>\n",
       "<style scoped>\n",
       "    .dataframe tbody tr th:only-of-type {\n",
       "        vertical-align: middle;\n",
       "    }\n",
       "\n",
       "    .dataframe tbody tr th {\n",
       "        vertical-align: top;\n",
       "    }\n",
       "\n",
       "    .dataframe thead th {\n",
       "        text-align: right;\n",
       "    }\n",
       "</style>\n",
       "<table border=\"1\" class=\"dataframe\">\n",
       "  <thead>\n",
       "    <tr style=\"text-align: right;\">\n",
       "      <th></th>\n",
       "      <th>0</th>\n",
       "    </tr>\n",
       "  </thead>\n",
       "  <tbody>\n",
       "    <tr>\n",
       "      <th>util_ratio</th>\n",
       "      <td>0.560359</td>\n",
       "    </tr>\n",
       "    <tr>\n",
       "      <th>ph_30to59</th>\n",
       "      <td>0.197957</td>\n",
       "    </tr>\n",
       "    <tr>\n",
       "      <th>ph_90</th>\n",
       "      <td>0.101242</td>\n",
       "    </tr>\n",
       "    <tr>\n",
       "      <th>ph_60to89</th>\n",
       "      <td>0.038669</td>\n",
       "    </tr>\n",
       "    <tr>\n",
       "      <th>realestate_lines</th>\n",
       "      <td>0.033640</td>\n",
       "    </tr>\n",
       "    <tr>\n",
       "      <th>open_credit_loans</th>\n",
       "      <td>0.030716</td>\n",
       "    </tr>\n",
       "    <tr>\n",
       "      <th>age</th>\n",
       "      <td>0.017777</td>\n",
       "    </tr>\n",
       "    <tr>\n",
       "      <th>debtratio</th>\n",
       "      <td>0.012359</td>\n",
       "    </tr>\n",
       "    <tr>\n",
       "      <th>monthlyincome</th>\n",
       "      <td>0.005810</td>\n",
       "    </tr>\n",
       "    <tr>\n",
       "      <th>dependents</th>\n",
       "      <td>0.001472</td>\n",
       "    </tr>\n",
       "  </tbody>\n",
       "</table>\n",
       "</div>"
      ],
      "text/plain": [
       "                          0\n",
       "util_ratio         0.560359\n",
       "ph_30to59          0.197957\n",
       "ph_90              0.101242\n",
       "ph_60to89          0.038669\n",
       "realestate_lines   0.033640\n",
       "open_credit_loans  0.030716\n",
       "age                0.017777\n",
       "debtratio          0.012359\n",
       "monthlyincome      0.005810\n",
       "dependents         0.001472"
      ]
     },
     "execution_count": 12,
     "metadata": {},
     "output_type": "execute_result"
    }
   ],
   "source": [
    "pd.DataFrame(feature_importance,index=X.columns).sort_values(by=0,ascending=False)"
   ]
  },
  {
   "cell_type": "code",
   "execution_count": 13,
   "metadata": {
    "collapsed": true
   },
   "outputs": [],
   "source": [
    "weighted_X = np.multiply(res_X,feature_importance)\n",
    "weighted_X_test = np.multiply(X_test,feature_importance)\n",
    "weighted_test = np.multiply(scaled_test,feature_importance)"
   ]
  },
  {
   "cell_type": "markdown",
   "metadata": {},
   "source": [
    "# Logistic Regression"
   ]
  },
  {
   "cell_type": "code",
   "execution_count": 14,
   "metadata": {
    "collapsed": true
   },
   "outputs": [],
   "source": [
    "# logregcv = LogisticRegressionCV(n_jobs=-1, random_state=2, max_iter=200, cv=3,\\\n",
    "#                                 scoring=auc)\n",
    "# logregcv.fit(weighted_X, res_y)"
   ]
  },
  {
   "cell_type": "code",
   "execution_count": 15,
   "metadata": {
    "collapsed": true
   },
   "outputs": [],
   "source": [
    "# joblib.dump(logregcv, 'models/logregcv_model.pkl')"
   ]
  },
  {
   "cell_type": "code",
   "execution_count": 16,
   "metadata": {
    "collapsed": true
   },
   "outputs": [],
   "source": [
    "logregcv = joblib.load('models/logregcv_model.pkl') "
   ]
  },
  {
   "cell_type": "code",
   "execution_count": 17,
   "metadata": {},
   "outputs": [
    {
     "name": "stdout",
     "output_type": "stream",
     "text": [
      "Logistic Regression\n",
      "\n",
      "Training Score: 0.8364509087400653\n",
      "\n",
      "Test Score: 0.9331333333333334\n"
     ]
    }
   ],
   "source": [
    "print('Logistic Regression')\n",
    "print ()\n",
    "print ('Training Score: {}'.format(logregcv.score(weighted_X,res_y)))   # training score\n",
    "print ()\n",
    "print ('Test Score: {}'.format(logregcv.score(weighted_X_test,y_test)))   # test score"
   ]
  },
  {
   "cell_type": "code",
   "execution_count": 20,
   "metadata": {
    "collapsed": true
   },
   "outputs": [],
   "source": [
    "import matplotlib.pyplot as plt\n",
    "from sklearn.model_selection import learning_curve\n",
    "\n",
    "def plot_learning_curve(estimator, title, X, y, ylim=None, cv=None,\n",
    "                        n_jobs=1, train_sizes=np.linspace(.1, 1.0, 5)):\n",
    "    \"\"\"\n",
    "    Generate a simple plot of the test and training learning curve.\n",
    "\n",
    "    Parameters\n",
    "    ----------\n",
    "    estimator : object type that implements the \"fit\" and \"predict\" methods\n",
    "        An object of that type which is cloned for each validation.\n",
    "\n",
    "    title : string\n",
    "        Title for the chart.\n",
    "\n",
    "    X : array-like, shape (n_samples, n_features)\n",
    "        Training vector, where n_samples is the number of samples and\n",
    "        n_features is the number of features.\n",
    "\n",
    "    y : array-like, shape (n_samples) or (n_samples, n_features), optional\n",
    "        Target relative to X for classification or regression;\n",
    "        None for unsupervised learning.\n",
    "\n",
    "    ylim : tuple, shape (ymin, ymax), optional\n",
    "        Defines minimum and maximum yvalues plotted.\n",
    "\n",
    "    cv : int, cross-validation generator or an iterable, optional\n",
    "        Determines the cross-validation splitting strategy.\n",
    "        Possible inputs for cv are:\n",
    "          - None, to use the default 3-fold cross-validation,\n",
    "          - integer, to specify the number of folds.\n",
    "          - An object to be used as a cross-validation generator.\n",
    "          - An iterable yielding train/test splits.\n",
    "\n",
    "        For integer/None inputs, if ``y`` is binary or multiclass,\n",
    "        :class:`StratifiedKFold` used. If the estimator is not a classifier\n",
    "        or if ``y`` is neither binary nor multiclass, :class:`KFold` is used.\n",
    "\n",
    "        Refer :ref:`User Guide <cross_validation>` for the various\n",
    "        cross-validators that can be used here.\n",
    "\n",
    "    n_jobs : integer, optional\n",
    "        Number of jobs to run in parallel (default 1).\n",
    "    \"\"\"\n",
    "    plt.figure()\n",
    "    plt.title(title)\n",
    "    if ylim is not None:\n",
    "        plt.ylim(*ylim)\n",
    "    plt.xlabel(\"Training examples\")\n",
    "    plt.ylabel(\"Score\")\n",
    "    train_sizes, train_scores, test_scores = learning_curve(\n",
    "        estimator, X, y, cv=cv, n_jobs=n_jobs, train_sizes=train_sizes,random_state=2)\n",
    "    train_scores_mean = np.mean(train_scores, axis=1)\n",
    "    train_scores_std = np.std(train_scores, axis=1)\n",
    "    test_scores_mean = np.mean(test_scores, axis=1)\n",
    "    test_scores_std = np.std(test_scores, axis=1)\n",
    "    plt.grid()\n",
    "\n",
    "    plt.fill_between(train_sizes, train_scores_mean - train_scores_std,\n",
    "                     train_scores_mean + train_scores_std, alpha=0.1,\n",
    "                     color=\"r\")\n",
    "    plt.fill_between(train_sizes, test_scores_mean - test_scores_std,\n",
    "                     test_scores_mean + test_scores_std, alpha=0.1, color=\"g\")\n",
    "    plt.plot(train_sizes, train_scores_mean, 'o-', color=\"r\",\n",
    "             label=\"Training score\")\n",
    "    plt.plot(train_sizes, test_scores_mean, 'o-', color=\"g\",\n",
    "             label=\"Cross-validation score\")\n",
    "\n",
    "    plt.legend(loc=\"best\")\n",
    "    return plt\n"
   ]
  },
  {
   "cell_type": "code",
   "execution_count": 21,
   "metadata": {},
   "outputs": [
    {
     "data": {
      "text/plain": [
       "<module 'matplotlib.pyplot' from '/Users/joannasyeow/anaconda/envs/python3/lib/python3.6/site-packages/matplotlib/pyplot.py'>"
      ]
     },
     "execution_count": 21,
     "metadata": {},
     "output_type": "execute_result"
    },
    {
     "data": {
      "image/png": "[encoded data removed]",
      "text/plain": [
       "<matplotlib.figure.Figure at 0x1a1b75c400>"
      ]
     },
     "metadata": {
      "image/png": {
       "height": 277,
       "width": 400
      }
     },
     "output_type": "display_data"
    }
   ],
   "source": [
    "# title = 'Logistic Regression CV'\n",
    "# estimator = logregcv\n",
    "\n",
    "# from sklearn.utils import shuffle\n",
    "# X, y = shuffle(weighted_X, res_y)\n",
    "\n",
    "# plot_learning_curve(estimator, title, X, y, ylim=None, cv=None,\n",
    "#                         n_jobs=1, train_sizes=np.linspace(.1, 1.0, 5))"
   ]
  },
  {
   "cell_type": "markdown",
   "metadata": {},
   "source": [
    "Our cross validation score is plateau-ing throughout. This shows that the validation set is unable to learn much from the training data. The training score decrease by only a little bit. It seems that our model is underfitting. We can try to increase the model complexity to see if we can improve on the results. "
   ]
  },
  {
   "cell_type": "markdown",
   "metadata": {},
   "source": [
    "# Kaggle Submission"
   ]
  },
  {
   "cell_type": "code",
   "execution_count": 97,
   "metadata": {
    "collapsed": true
   },
   "outputs": [],
   "source": [
    "test_predict = logregcv.predict_proba(weighted_test)\n",
    "test_predict = pd.DataFrame(test_predict)[1]"
   ]
  },
  {
   "cell_type": "code",
   "execution_count": 102,
   "metadata": {
    "collapsed": true
   },
   "outputs": [],
   "source": [
    "submission = pd.DataFrame(np.arange(1, len(test_predict) + 1))\n",
    "submission[1] = test_predict\n",
    "submission = submission.rename({0:'Id',1:'Probability'},axis=1)\n"
   ]
  },
  {
   "cell_type": "code",
   "execution_count": 106,
   "metadata": {
    "collapsed": true
   },
   "outputs": [],
   "source": [
    "submission.set_index('Id').to_csv('submissions/submission_2.csv')"
   ]
  },
  {
   "cell_type": "markdown",
   "metadata": {
    "collapsed": true
   },
   "source": [
    "<img src=\"https://i.imgur.com/weWdohG.png\">"
   ]
  },
  {
   "cell_type": "markdown",
   "metadata": {},
   "source": [
    "My first Kaggle submission using logistic regression cv provided a score of <b>0.857848 (Private)</b> and <b>0.852654 (Public)</b>"
   ]
  },
  {
   "cell_type": "markdown",
   "metadata": {
    "collapsed": true
   },
   "source": [
    "# Random Forest Classifier"
   ]
  },
  {
   "cell_type": "code",
   "execution_count": 19,
   "metadata": {},
   "outputs": [
    {
     "name": "stdout",
     "output_type": "stream",
     "text": [
      "Fitting 3 folds for each of 120 candidates, totalling 360 fits\n"
     ]
    },
    {
     "name": "stderr",
     "output_type": "stream",
     "text": [
      "[Parallel(n_jobs=-1)]: Done  42 tasks      | elapsed:  5.9min\n",
      "[Parallel(n_jobs=-1)]: Done 192 tasks      | elapsed: 39.2min\n",
      "[Parallel(n_jobs=-1)]: Done 360 out of 360 | elapsed: 100.0min finished\n"
     ]
    },
    {
     "data": {
      "text/plain": [
       "GridSearchCV(cv=3, error_score='raise',\n",
       "       estimator=RandomForestClassifier(bootstrap=True, class_weight=None, criterion='gini',\n",
       "            max_depth=None, max_features='auto', max_leaf_nodes=None,\n",
       "            min_impurity_decrease=0.0, min_impurity_split=None,\n",
       "            min_samples_leaf=1, min_samples_split=2,\n",
       "            min_weight_fraction_leaf=0.0, n_estimators=10, n_jobs=1,\n",
       "            oob_score=False, random_state=6, verbose=0, warm_start=False),\n",
       "       fit_params={}, iid=True, n_jobs=-1,\n",
       "       param_grid={'n_estimators': [500], 'max_depth': [1, 2, 3, 4], 'max_features': ['log2', 'sqrt', 2, 3, 4, 5], 'min_samples_split': [2, 3, 4, 5, 10]},\n",
       "       pre_dispatch='2*n_jobs', refit=True, scoring='roc_auc', verbose=1)"
      ]
     },
     "execution_count": 19,
     "metadata": {},
     "output_type": "execute_result"
    }
   ],
   "source": [
    "# rfc_params = {\n",
    "#     'n_estimators':[500],\n",
    "#     'max_depth':[1,2,3,4],\n",
    "#     'max_features':['log2','sqrt',2,3,4,5],\n",
    "#     'min_samples_split':[2,3,4,5,10]\n",
    "# }\n",
    "\n",
    "\n",
    "# rfc_gs = GridSearchCV(RandomForestClassifier(random_state=6), \\\n",
    "#                       rfc_params, cv=3, verbose=1,n_jobs=-1,scoring='roc_auc')\n",
    "\n",
    "\n",
    "# rfc_gs.fit(weighted_X, res_y)"
   ]
  },
  {
   "cell_type": "code",
   "execution_count": 23,
   "metadata": {},
   "outputs": [
    {
     "data": {
      "text/plain": [
       "['rfc_model.pkl']"
      ]
     },
     "execution_count": 23,
     "metadata": {},
     "output_type": "execute_result"
    }
   ],
   "source": [
    "# joblib.dump(rfc_gs, 'models/rfc_model.pkl')"
   ]
  },
  {
   "cell_type": "code",
   "execution_count": 30,
   "metadata": {
    "collapsed": true
   },
   "outputs": [],
   "source": [
    "rfc_gs = joblib.load('models/rfc_model.pkl') "
   ]
  },
  {
   "cell_type": "code",
   "execution_count": 24,
   "metadata": {},
   "outputs": [
    {
     "name": "stdout",
     "output_type": "stream",
     "text": [
      "Random Forest Classifier\n",
      "\n",
      "Training Score: 0.927664231492223\n",
      "\n",
      "Test Score: 0.8379664927311382\n"
     ]
    }
   ],
   "source": [
    "print ('Random Forest Classifier')\n",
    "print()\n",
    "print ('Training Score: {}'.format(rfc_gs.score(weighted_X,res_y)))   # training score\n",
    "print ()\n",
    "print ('Test Score: {}'.format(rfc_gs.score(weighted_X_test,y_test)))   # test score"
   ]
  },
  {
   "cell_type": "markdown",
   "metadata": {},
   "source": [
    "# Kaggle Submission"
   ]
  },
  {
   "cell_type": "code",
   "execution_count": 25,
   "metadata": {
    "collapsed": true
   },
   "outputs": [],
   "source": [
    "test_predict = rfc_gs.best_estimator_.predict_proba(weighted_test)\n",
    "test_predict = pd.DataFrame(test_predict)[1]"
   ]
  },
  {
   "cell_type": "code",
   "execution_count": 26,
   "metadata": {
    "collapsed": true
   },
   "outputs": [],
   "source": [
    "submission = pd.DataFrame(np.arange(1, len(test_predict) + 1))\n",
    "submission[1] = test_predict\n",
    "submission = submission.rename({0:'Id',1:'Probability'},axis=1)"
   ]
  },
  {
   "cell_type": "code",
   "execution_count": 27,
   "metadata": {
    "collapsed": true
   },
   "outputs": [],
   "source": [
    "submission.set_index('Id').to_csv('submissions/submission_rfc_gs.csv')"
   ]
  },
  {
   "cell_type": "markdown",
   "metadata": {},
   "source": [
    "<img src=\"https://i.imgur.com/fdYGKdb.png\">"
   ]
  },
  {
   "cell_type": "markdown",
   "metadata": {},
   "source": [
    "Kaggle submission using Random Forest Classifier provided a score of <b>0.854492 (Private)</b> and <b>0.848469 (Public)</b>"
   ]
  },
  {
   "cell_type": "markdown",
   "metadata": {},
   "source": [
    "# XGBoost"
   ]
  },
  {
   "cell_type": "code",
   "execution_count": 23,
   "metadata": {
    "scrolled": true
   },
   "outputs": [
    {
     "name": "stdout",
     "output_type": "stream",
     "text": [
      "[0]\tvalidation_0-auc:0.875727\tvalidation_1-auc:0.796541\n",
      "Multiple eval metrics have been passed: 'validation_1-auc' will be used for early stopping.\n",
      "\n",
      "Will train until validation_1-auc hasn't improved in 650 rounds.\n",
      "[1]\tvalidation_0-auc:0.893441\tvalidation_1-auc:0.820607\n",
      "[2]\tvalidation_0-auc:0.910799\tvalidation_1-auc:0.816093\n",
      "[3]\tvalidation_0-auc:0.922211\tvalidation_1-auc:0.815568\n",
      "[4]\tvalidation_0-auc:0.918506\tvalidation_1-auc:0.818743\n",
      "[5]\tvalidation_0-auc:0.92289\tvalidation_1-auc:0.836866\n",
      "[6]\tvalidation_0-auc:0.923988\tvalidation_1-auc:0.834393\n",
      "[7]\tvalidation_0-auc:0.928934\tvalidation_1-auc:0.835838\n",
      "[8]\tvalidation_0-auc:0.929911\tvalidation_1-auc:0.835931\n",
      "[9]\tvalidation_0-auc:0.933556\tvalidation_1-auc:0.835171\n",
      "[10]\tvalidation_0-auc:0.933596\tvalidation_1-auc:0.8326\n",
      "[11]\tvalidation_0-auc:0.932495\tvalidation_1-auc:0.83287\n",
      "[12]\tvalidation_0-auc:0.934484\tvalidation_1-auc:0.834683\n",
      "[13]\tvalidation_0-auc:0.934023\tvalidation_1-auc:0.834081\n",
      "[14]\tvalidation_0-auc:0.934304\tvalidation_1-auc:0.832873\n",
      "[15]\tvalidation_0-auc:0.934845\tvalidation_1-auc:0.83378\n",
      "[16]\tvalidation_0-auc:0.93702\tvalidation_1-auc:0.832018\n",
      "[17]\tvalidation_0-auc:0.936695\tvalidation_1-auc:0.831674\n",
      "[18]\tvalidation_0-auc:0.935516\tvalidation_1-auc:0.831529\n",
      "[19]\tvalidation_0-auc:0.935596\tvalidation_1-auc:0.83115\n",
      "[20]\tvalidation_0-auc:0.935605\tvalidation_1-auc:0.831599\n",
      "[21]\tvalidation_0-auc:0.935305\tvalidation_1-auc:0.829115\n",
      "[22]\tvalidation_0-auc:0.934618\tvalidation_1-auc:0.829261\n",
      "[23]\tvalidation_0-auc:0.93425\tvalidation_1-auc:0.832313\n",
      "[24]\tvalidation_0-auc:0.933652\tvalidation_1-auc:0.830972\n",
      "[25]\tvalidation_0-auc:0.934154\tvalidation_1-auc:0.832316\n",
      "[26]\tvalidation_0-auc:0.934891\tvalidation_1-auc:0.832886\n",
      "[27]\tvalidation_0-auc:0.934527\tvalidation_1-auc:0.833556\n",
      "[28]\tvalidation_0-auc:0.935118\tvalidation_1-auc:0.834859\n",
      "[29]\tvalidation_0-auc:0.935216\tvalidation_1-auc:0.83585\n",
      "[30]\tvalidation_0-auc:0.934942\tvalidation_1-auc:0.835167\n",
      "[31]\tvalidation_0-auc:0.934741\tvalidation_1-auc:0.835164\n",
      "[32]\tvalidation_0-auc:0.934426\tvalidation_1-auc:0.834367\n",
      "[33]\tvalidation_0-auc:0.93405\tvalidation_1-auc:0.833643\n",
      "[34]\tvalidation_0-auc:0.933467\tvalidation_1-auc:0.832265\n",
      "[35]\tvalidation_0-auc:0.933757\tvalidation_1-auc:0.832499\n",
      "[36]\tvalidation_0-auc:0.933481\tvalidation_1-auc:0.832886\n",
      "[37]\tvalidation_0-auc:0.932934\tvalidation_1-auc:0.833487\n",
      "[38]\tvalidation_0-auc:0.932214\tvalidation_1-auc:0.832945\n",
      "[39]\tvalidation_0-auc:0.932727\tvalidation_1-auc:0.832804\n",
      "[40]\tvalidation_0-auc:0.933306\tvalidation_1-auc:0.831633\n",
      "[41]\tvalidation_0-auc:0.933934\tvalidation_1-auc:0.833403\n",
      "[42]\tvalidation_0-auc:0.935206\tvalidation_1-auc:0.833381\n",
      "[43]\tvalidation_0-auc:0.935388\tvalidation_1-auc:0.832798\n",
      "[44]\tvalidation_0-auc:0.934967\tvalidation_1-auc:0.831082\n",
      "[45]\tvalidation_0-auc:0.935028\tvalidation_1-auc:0.831329\n",
      "[46]\tvalidation_0-auc:0.934541\tvalidation_1-auc:0.830612\n",
      "[47]\tvalidation_0-auc:0.935205\tvalidation_1-auc:0.831253\n",
      "[48]\tvalidation_0-auc:0.935406\tvalidation_1-auc:0.832657\n",
      "[49]\tvalidation_0-auc:0.935807\tvalidation_1-auc:0.833446\n",
      "[50]\tvalidation_0-auc:0.935989\tvalidation_1-auc:0.833634\n",
      "[51]\tvalidation_0-auc:0.936325\tvalidation_1-auc:0.833916\n",
      "[52]\tvalidation_0-auc:0.936579\tvalidation_1-auc:0.834177\n",
      "[53]\tvalidation_0-auc:0.936775\tvalidation_1-auc:0.834571\n",
      "[54]\tvalidation_0-auc:0.937198\tvalidation_1-auc:0.834931\n",
      "[55]\tvalidation_0-auc:0.937225\tvalidation_1-auc:0.834291\n",
      "[56]\tvalidation_0-auc:0.937308\tvalidation_1-auc:0.834499\n",
      "[57]\tvalidation_0-auc:0.937383\tvalidation_1-auc:0.834716\n",
      "[58]\tvalidation_0-auc:0.937136\tvalidation_1-auc:0.835504\n",
      "[59]\tvalidation_0-auc:0.93734\tvalidation_1-auc:0.834858\n",
      "[60]\tvalidation_0-auc:0.937059\tvalidation_1-auc:0.834603\n",
      "[61]\tvalidation_0-auc:0.937018\tvalidation_1-auc:0.834983\n",
      "[62]\tvalidation_0-auc:0.937107\tvalidation_1-auc:0.834918\n",
      "[63]\tvalidation_0-auc:0.936909\tvalidation_1-auc:0.835428\n",
      "[64]\tvalidation_0-auc:0.937231\tvalidation_1-auc:0.835497\n",
      "[65]\tvalidation_0-auc:0.937086\tvalidation_1-auc:0.835091\n",
      "[66]\tvalidation_0-auc:0.936852\tvalidation_1-auc:0.834631\n",
      "[67]\tvalidation_0-auc:0.936904\tvalidation_1-auc:0.83464\n",
      "[68]\tvalidation_0-auc:0.93721\tvalidation_1-auc:0.834605\n",
      "[69]\tvalidation_0-auc:0.937091\tvalidation_1-auc:0.834608\n",
      "[70]\tvalidation_0-auc:0.937079\tvalidation_1-auc:0.834569\n",
      "[71]\tvalidation_0-auc:0.937131\tvalidation_1-auc:0.834893\n",
      "[72]\tvalidation_0-auc:0.937199\tvalidation_1-auc:0.835185\n",
      "[73]\tvalidation_0-auc:0.937222\tvalidation_1-auc:0.834934\n",
      "[74]\tvalidation_0-auc:0.937313\tvalidation_1-auc:0.835195\n",
      "[75]\tvalidation_0-auc:0.937208\tvalidation_1-auc:0.835507\n",
      "[76]\tvalidation_0-auc:0.937701\tvalidation_1-auc:0.83556\n",
      "[77]\tvalidation_0-auc:0.937676\tvalidation_1-auc:0.834284\n",
      "[78]\tvalidation_0-auc:0.937868\tvalidation_1-auc:0.833384\n",
      "[79]\tvalidation_0-auc:0.937791\tvalidation_1-auc:0.833451\n",
      "[80]\tvalidation_0-auc:0.938212\tvalidation_1-auc:0.832803\n",
      "[81]\tvalidation_0-auc:0.93842\tvalidation_1-auc:0.832226\n",
      "[82]\tvalidation_0-auc:0.938428\tvalidation_1-auc:0.831466\n",
      "[83]\tvalidation_0-auc:0.938617\tvalidation_1-auc:0.831018\n",
      "[84]\tvalidation_0-auc:0.938667\tvalidation_1-auc:0.831044\n",
      "[85]\tvalidation_0-auc:0.938785\tvalidation_1-auc:0.830494\n",
      "[86]\tvalidation_0-auc:0.938878\tvalidation_1-auc:0.830887\n",
      "[87]\tvalidation_0-auc:0.938962\tvalidation_1-auc:0.828207\n",
      "[88]\tvalidation_0-auc:0.938815\tvalidation_1-auc:0.831284\n",
      "[89]\tvalidation_0-auc:0.938591\tvalidation_1-auc:0.832651\n",
      "[90]\tvalidation_0-auc:0.938432\tvalidation_1-auc:0.832287\n",
      "[91]\tvalidation_0-auc:0.93829\tvalidation_1-auc:0.832925\n",
      "[92]\tvalidation_0-auc:0.938251\tvalidation_1-auc:0.832126\n",
      "[93]\tvalidation_0-auc:0.938425\tvalidation_1-auc:0.831578\n",
      "[94]\tvalidation_0-auc:0.938202\tvalidation_1-auc:0.831349\n",
      "[95]\tvalidation_0-auc:0.938389\tvalidation_1-auc:0.830801\n",
      "[96]\tvalidation_0-auc:0.938539\tvalidation_1-auc:0.831501\n",
      "[97]\tvalidation_0-auc:0.938392\tvalidation_1-auc:0.831442\n",
      "[98]\tvalidation_0-auc:0.938656\tvalidation_1-auc:0.831442\n",
      "[99]\tvalidation_0-auc:0.938904\tvalidation_1-auc:0.829627\n",
      "[100]\tvalidation_0-auc:0.938808\tvalidation_1-auc:0.829341\n",
      "[101]\tvalidation_0-auc:0.938597\tvalidation_1-auc:0.829037\n",
      "[102]\tvalidation_0-auc:0.938632\tvalidation_1-auc:0.831151\n",
      "[103]\tvalidation_0-auc:0.938685\tvalidation_1-auc:0.830231\n",
      "[104]\tvalidation_0-auc:0.938548\tvalidation_1-auc:0.82992\n",
      "[105]\tvalidation_0-auc:0.938478\tvalidation_1-auc:0.829442\n",
      "[106]\tvalidation_0-auc:0.938622\tvalidation_1-auc:0.828879\n",
      "[107]\tvalidation_0-auc:0.938587\tvalidation_1-auc:0.827882\n",
      "[108]\tvalidation_0-auc:0.938599\tvalidation_1-auc:0.827376\n",
      "[109]\tvalidation_0-auc:0.938639\tvalidation_1-auc:0.828015\n",
      "[110]\tvalidation_0-auc:0.938642\tvalidation_1-auc:0.828274\n",
      "[111]\tvalidation_0-auc:0.938673\tvalidation_1-auc:0.82985\n",
      "[112]\tvalidation_0-auc:0.938495\tvalidation_1-auc:0.83073\n",
      "[113]\tvalidation_0-auc:0.938589\tvalidation_1-auc:0.830749\n",
      "[114]\tvalidation_0-auc:0.938687\tvalidation_1-auc:0.831802\n",
      "[115]\tvalidation_0-auc:0.938656\tvalidation_1-auc:0.83036\n",
      "[116]\tvalidation_0-auc:0.938515\tvalidation_1-auc:0.831668\n",
      "[117]\tvalidation_0-auc:0.938642\tvalidation_1-auc:0.831535\n",
      "[118]\tvalidation_0-auc:0.938621\tvalidation_1-auc:0.831587\n",
      "[119]\tvalidation_0-auc:0.938579\tvalidation_1-auc:0.831496\n",
      "[120]\tvalidation_0-auc:0.938676\tvalidation_1-auc:0.831043\n",
      "[121]\tvalidation_0-auc:0.938734\tvalidation_1-auc:0.832471\n",
      "[122]\tvalidation_0-auc:0.939019\tvalidation_1-auc:0.832011\n",
      "[123]\tvalidation_0-auc:0.938935\tvalidation_1-auc:0.831843\n",
      "[124]\tvalidation_0-auc:0.93879\tvalidation_1-auc:0.83247\n",
      "[125]\tvalidation_0-auc:0.938951\tvalidation_1-auc:0.832459\n",
      "[126]\tvalidation_0-auc:0.93892\tvalidation_1-auc:0.832251\n",
      "[127]\tvalidation_0-auc:0.938911\tvalidation_1-auc:0.832275\n",
      "[128]\tvalidation_0-auc:0.938946\tvalidation_1-auc:0.832289\n",
      "[129]\tvalidation_0-auc:0.939005\tvalidation_1-auc:0.832323\n",
      "[130]\tvalidation_0-auc:0.9389\tvalidation_1-auc:0.832004\n",
      "[131]\tvalidation_0-auc:0.938886\tvalidation_1-auc:0.83221\n",
      "[132]\tvalidation_0-auc:0.938856\tvalidation_1-auc:0.831008\n",
      "[133]\tvalidation_0-auc:0.938823\tvalidation_1-auc:0.831026\n",
      "[134]\tvalidation_0-auc:0.938848\tvalidation_1-auc:0.831259\n",
      "[135]\tvalidation_0-auc:0.938785\tvalidation_1-auc:0.830916\n",
      "[136]\tvalidation_0-auc:0.938795\tvalidation_1-auc:0.831407\n",
      "[137]\tvalidation_0-auc:0.938781\tvalidation_1-auc:0.831382\n",
      "[138]\tvalidation_0-auc:0.93869\tvalidation_1-auc:0.832383\n",
      "[139]\tvalidation_0-auc:0.938573\tvalidation_1-auc:0.832278\n",
      "[140]\tvalidation_0-auc:0.938796\tvalidation_1-auc:0.832183\n"
     ]
    },
    {
     "name": "stdout",
     "output_type": "stream",
     "text": [
      "[141]\tvalidation_0-auc:0.938841\tvalidation_1-auc:0.832064\n",
      "[142]\tvalidation_0-auc:0.938745\tvalidation_1-auc:0.832041\n",
      "[143]\tvalidation_0-auc:0.938699\tvalidation_1-auc:0.832679\n",
      "[144]\tvalidation_0-auc:0.938721\tvalidation_1-auc:0.832706\n",
      "[145]\tvalidation_0-auc:0.938753\tvalidation_1-auc:0.83297\n",
      "[146]\tvalidation_0-auc:0.938775\tvalidation_1-auc:0.833169\n",
      "[147]\tvalidation_0-auc:0.938825\tvalidation_1-auc:0.833081\n",
      "[148]\tvalidation_0-auc:0.938825\tvalidation_1-auc:0.832366\n",
      "[149]\tvalidation_0-auc:0.938698\tvalidation_1-auc:0.832949\n",
      "[150]\tvalidation_0-auc:0.938962\tvalidation_1-auc:0.832187\n",
      "[151]\tvalidation_0-auc:0.939017\tvalidation_1-auc:0.832445\n",
      "[152]\tvalidation_0-auc:0.938954\tvalidation_1-auc:0.833093\n",
      "[153]\tvalidation_0-auc:0.938987\tvalidation_1-auc:0.833114\n",
      "[154]\tvalidation_0-auc:0.938924\tvalidation_1-auc:0.833849\n",
      "[155]\tvalidation_0-auc:0.939095\tvalidation_1-auc:0.833849\n",
      "[156]\tvalidation_0-auc:0.93902\tvalidation_1-auc:0.833747\n",
      "[157]\tvalidation_0-auc:0.939113\tvalidation_1-auc:0.833812\n",
      "[158]\tvalidation_0-auc:0.939265\tvalidation_1-auc:0.833656\n",
      "[159]\tvalidation_0-auc:0.939278\tvalidation_1-auc:0.833286\n",
      "[160]\tvalidation_0-auc:0.939398\tvalidation_1-auc:0.832903\n",
      "[161]\tvalidation_0-auc:0.939373\tvalidation_1-auc:0.832297\n",
      "[162]\tvalidation_0-auc:0.939419\tvalidation_1-auc:0.832424\n",
      "[163]\tvalidation_0-auc:0.939476\tvalidation_1-auc:0.833126\n",
      "[164]\tvalidation_0-auc:0.939505\tvalidation_1-auc:0.833143\n",
      "[165]\tvalidation_0-auc:0.939538\tvalidation_1-auc:0.833264\n",
      "[166]\tvalidation_0-auc:0.939602\tvalidation_1-auc:0.833374\n",
      "[167]\tvalidation_0-auc:0.939517\tvalidation_1-auc:0.833791\n",
      "[168]\tvalidation_0-auc:0.93959\tvalidation_1-auc:0.833751\n",
      "[169]\tvalidation_0-auc:0.939586\tvalidation_1-auc:0.833497\n",
      "[170]\tvalidation_0-auc:0.939471\tvalidation_1-auc:0.833847\n",
      "[171]\tvalidation_0-auc:0.939506\tvalidation_1-auc:0.833789\n",
      "[172]\tvalidation_0-auc:0.939567\tvalidation_1-auc:0.833381\n",
      "[173]\tvalidation_0-auc:0.939604\tvalidation_1-auc:0.833402\n",
      "[174]\tvalidation_0-auc:0.939581\tvalidation_1-auc:0.833905\n",
      "[175]\tvalidation_0-auc:0.939659\tvalidation_1-auc:0.833765\n",
      "[176]\tvalidation_0-auc:0.939622\tvalidation_1-auc:0.8343\n",
      "[177]\tvalidation_0-auc:0.939587\tvalidation_1-auc:0.83432\n",
      "[178]\tvalidation_0-auc:0.939643\tvalidation_1-auc:0.834075\n",
      "[179]\tvalidation_0-auc:0.939637\tvalidation_1-auc:0.834414\n",
      "[180]\tvalidation_0-auc:0.939626\tvalidation_1-auc:0.834078\n",
      "[181]\tvalidation_0-auc:0.939571\tvalidation_1-auc:0.834237\n",
      "[182]\tvalidation_0-auc:0.93964\tvalidation_1-auc:0.834169\n",
      "[183]\tvalidation_0-auc:0.939564\tvalidation_1-auc:0.834437\n",
      "[184]\tvalidation_0-auc:0.939582\tvalidation_1-auc:0.834327\n",
      "[185]\tvalidation_0-auc:0.939594\tvalidation_1-auc:0.834192\n",
      "[186]\tvalidation_0-auc:0.939556\tvalidation_1-auc:0.834497\n",
      "[187]\tvalidation_0-auc:0.939488\tvalidation_1-auc:0.834925\n",
      "[188]\tvalidation_0-auc:0.939511\tvalidation_1-auc:0.835161\n",
      "[189]\tvalidation_0-auc:0.939683\tvalidation_1-auc:0.835054\n",
      "[190]\tvalidation_0-auc:0.939635\tvalidation_1-auc:0.834976\n",
      "[191]\tvalidation_0-auc:0.939585\tvalidation_1-auc:0.834911\n",
      "[192]\tvalidation_0-auc:0.939564\tvalidation_1-auc:0.834849\n",
      "[193]\tvalidation_0-auc:0.939542\tvalidation_1-auc:0.835191\n",
      "[194]\tvalidation_0-auc:0.939443\tvalidation_1-auc:0.835405\n",
      "[195]\tvalidation_0-auc:0.93948\tvalidation_1-auc:0.835303\n",
      "[196]\tvalidation_0-auc:0.939494\tvalidation_1-auc:0.835065\n",
      "[197]\tvalidation_0-auc:0.939709\tvalidation_1-auc:0.834888\n",
      "[198]\tvalidation_0-auc:0.939671\tvalidation_1-auc:0.835326\n",
      "[199]\tvalidation_0-auc:0.939674\tvalidation_1-auc:0.835445\n",
      "[200]\tvalidation_0-auc:0.939581\tvalidation_1-auc:0.835597\n",
      "[201]\tvalidation_0-auc:0.939586\tvalidation_1-auc:0.835456\n",
      "[202]\tvalidation_0-auc:0.939565\tvalidation_1-auc:0.835475\n",
      "[203]\tvalidation_0-auc:0.939635\tvalidation_1-auc:0.83518\n",
      "[204]\tvalidation_0-auc:0.939693\tvalidation_1-auc:0.835032\n",
      "[205]\tvalidation_0-auc:0.939824\tvalidation_1-auc:0.834814\n",
      "[206]\tvalidation_0-auc:0.939842\tvalidation_1-auc:0.835113\n",
      "[207]\tvalidation_0-auc:0.939946\tvalidation_1-auc:0.834707\n",
      "[208]\tvalidation_0-auc:0.939952\tvalidation_1-auc:0.834539\n",
      "[209]\tvalidation_0-auc:0.939998\tvalidation_1-auc:0.834161\n",
      "[210]\tvalidation_0-auc:0.939967\tvalidation_1-auc:0.834087\n",
      "[211]\tvalidation_0-auc:0.940029\tvalidation_1-auc:0.833776\n",
      "[212]\tvalidation_0-auc:0.940097\tvalidation_1-auc:0.833725\n",
      "[213]\tvalidation_0-auc:0.940029\tvalidation_1-auc:0.833912\n",
      "[214]\tvalidation_0-auc:0.940051\tvalidation_1-auc:0.83394\n",
      "[215]\tvalidation_0-auc:0.940102\tvalidation_1-auc:0.834184\n",
      "[216]\tvalidation_0-auc:0.940103\tvalidation_1-auc:0.834184\n",
      "[217]\tvalidation_0-auc:0.94008\tvalidation_1-auc:0.834176\n",
      "[218]\tvalidation_0-auc:0.940169\tvalidation_1-auc:0.833369\n",
      "[219]\tvalidation_0-auc:0.940217\tvalidation_1-auc:0.832704\n",
      "[220]\tvalidation_0-auc:0.940198\tvalidation_1-auc:0.833283\n",
      "[221]\tvalidation_0-auc:0.940233\tvalidation_1-auc:0.83389\n",
      "[222]\tvalidation_0-auc:0.94026\tvalidation_1-auc:0.83358\n",
      "[223]\tvalidation_0-auc:0.940173\tvalidation_1-auc:0.834244\n",
      "[224]\tvalidation_0-auc:0.940231\tvalidation_1-auc:0.833505\n",
      "[225]\tvalidation_0-auc:0.940188\tvalidation_1-auc:0.834056\n",
      "[226]\tvalidation_0-auc:0.940202\tvalidation_1-auc:0.833358\n",
      "[227]\tvalidation_0-auc:0.940258\tvalidation_1-auc:0.833222\n",
      "[228]\tvalidation_0-auc:0.940228\tvalidation_1-auc:0.833757\n",
      "[229]\tvalidation_0-auc:0.940268\tvalidation_1-auc:0.834582\n",
      "[230]\tvalidation_0-auc:0.940335\tvalidation_1-auc:0.833887\n",
      "[231]\tvalidation_0-auc:0.940359\tvalidation_1-auc:0.833425\n",
      "[232]\tvalidation_0-auc:0.940538\tvalidation_1-auc:0.833214\n",
      "[233]\tvalidation_0-auc:0.940574\tvalidation_1-auc:0.832525\n",
      "[234]\tvalidation_0-auc:0.940568\tvalidation_1-auc:0.832068\n",
      "[235]\tvalidation_0-auc:0.940606\tvalidation_1-auc:0.832015\n",
      "[236]\tvalidation_0-auc:0.940596\tvalidation_1-auc:0.832141\n",
      "[237]\tvalidation_0-auc:0.940516\tvalidation_1-auc:0.832541\n",
      "[238]\tvalidation_0-auc:0.940458\tvalidation_1-auc:0.833573\n",
      "[239]\tvalidation_0-auc:0.940517\tvalidation_1-auc:0.833052\n",
      "[240]\tvalidation_0-auc:0.940565\tvalidation_1-auc:0.832993\n",
      "[241]\tvalidation_0-auc:0.940577\tvalidation_1-auc:0.832997\n",
      "[242]\tvalidation_0-auc:0.940668\tvalidation_1-auc:0.832207\n",
      "[243]\tvalidation_0-auc:0.940671\tvalidation_1-auc:0.832125\n",
      "[244]\tvalidation_0-auc:0.940625\tvalidation_1-auc:0.832893\n",
      "[245]\tvalidation_0-auc:0.940674\tvalidation_1-auc:0.831914\n",
      "[246]\tvalidation_0-auc:0.940731\tvalidation_1-auc:0.831886\n",
      "[247]\tvalidation_0-auc:0.940656\tvalidation_1-auc:0.832051\n",
      "[248]\tvalidation_0-auc:0.940714\tvalidation_1-auc:0.832137\n",
      "[249]\tvalidation_0-auc:0.940695\tvalidation_1-auc:0.832079\n",
      "[250]\tvalidation_0-auc:0.940718\tvalidation_1-auc:0.831966\n",
      "[251]\tvalidation_0-auc:0.940667\tvalidation_1-auc:0.832263\n",
      "[252]\tvalidation_0-auc:0.940593\tvalidation_1-auc:0.832895\n",
      "[253]\tvalidation_0-auc:0.940614\tvalidation_1-auc:0.832388\n",
      "[254]\tvalidation_0-auc:0.940589\tvalidation_1-auc:0.832905\n",
      "[255]\tvalidation_0-auc:0.940663\tvalidation_1-auc:0.831918\n",
      "[256]\tvalidation_0-auc:0.940741\tvalidation_1-auc:0.831823\n",
      "[257]\tvalidation_0-auc:0.94068\tvalidation_1-auc:0.831937\n",
      "[258]\tvalidation_0-auc:0.940708\tvalidation_1-auc:0.832397\n",
      "[259]\tvalidation_0-auc:0.940711\tvalidation_1-auc:0.832858\n",
      "[260]\tvalidation_0-auc:0.940659\tvalidation_1-auc:0.833142\n",
      "[261]\tvalidation_0-auc:0.940725\tvalidation_1-auc:0.833216\n",
      "[262]\tvalidation_0-auc:0.940674\tvalidation_1-auc:0.833453\n",
      "[263]\tvalidation_0-auc:0.940685\tvalidation_1-auc:0.833312\n",
      "[264]\tvalidation_0-auc:0.940735\tvalidation_1-auc:0.833109\n",
      "[265]\tvalidation_0-auc:0.940755\tvalidation_1-auc:0.832593\n",
      "[266]\tvalidation_0-auc:0.940833\tvalidation_1-auc:0.831988\n",
      "[267]\tvalidation_0-auc:0.940887\tvalidation_1-auc:0.83178\n",
      "[268]\tvalidation_0-auc:0.940872\tvalidation_1-auc:0.831729\n",
      "[269]\tvalidation_0-auc:0.9409\tvalidation_1-auc:0.831879\n",
      "[270]\tvalidation_0-auc:0.940956\tvalidation_1-auc:0.832114\n",
      "[271]\tvalidation_0-auc:0.940962\tvalidation_1-auc:0.832032\n",
      "[272]\tvalidation_0-auc:0.940972\tvalidation_1-auc:0.831867\n",
      "[273]\tvalidation_0-auc:0.940905\tvalidation_1-auc:0.83202\n",
      "[274]\tvalidation_0-auc:0.940884\tvalidation_1-auc:0.832011\n",
      "[275]\tvalidation_0-auc:0.940935\tvalidation_1-auc:0.832635\n",
      "[276]\tvalidation_0-auc:0.940943\tvalidation_1-auc:0.832355\n",
      "[277]\tvalidation_0-auc:0.941054\tvalidation_1-auc:0.832089\n",
      "[278]\tvalidation_0-auc:0.941111\tvalidation_1-auc:0.832126\n",
      "[279]\tvalidation_0-auc:0.941157\tvalidation_1-auc:0.831956\n",
      "[280]\tvalidation_0-auc:0.941146\tvalidation_1-auc:0.832321\n",
      "[281]\tvalidation_0-auc:0.941133\tvalidation_1-auc:0.832282\n",
      "[282]\tvalidation_0-auc:0.941088\tvalidation_1-auc:0.832462\n"
     ]
    },
    {
     "name": "stdout",
     "output_type": "stream",
     "text": [
      "[283]\tvalidation_0-auc:0.941076\tvalidation_1-auc:0.832546\n",
      "[284]\tvalidation_0-auc:0.941222\tvalidation_1-auc:0.832464\n",
      "[285]\tvalidation_0-auc:0.941293\tvalidation_1-auc:0.832231\n",
      "[286]\tvalidation_0-auc:0.941298\tvalidation_1-auc:0.831974\n",
      "[287]\tvalidation_0-auc:0.94137\tvalidation_1-auc:0.831568\n",
      "[288]\tvalidation_0-auc:0.941357\tvalidation_1-auc:0.83153\n",
      "[289]\tvalidation_0-auc:0.941401\tvalidation_1-auc:0.831542\n",
      "[290]\tvalidation_0-auc:0.941487\tvalidation_1-auc:0.831415\n",
      "[291]\tvalidation_0-auc:0.941484\tvalidation_1-auc:0.831419\n",
      "[292]\tvalidation_0-auc:0.94152\tvalidation_1-auc:0.831321\n",
      "[293]\tvalidation_0-auc:0.941505\tvalidation_1-auc:0.831498\n",
      "[294]\tvalidation_0-auc:0.94147\tvalidation_1-auc:0.831784\n",
      "[295]\tvalidation_0-auc:0.941443\tvalidation_1-auc:0.832082\n",
      "[296]\tvalidation_0-auc:0.941477\tvalidation_1-auc:0.832381\n",
      "[297]\tvalidation_0-auc:0.941546\tvalidation_1-auc:0.832057\n",
      "[298]\tvalidation_0-auc:0.9416\tvalidation_1-auc:0.831968\n",
      "[299]\tvalidation_0-auc:0.941569\tvalidation_1-auc:0.832299\n",
      "[300]\tvalidation_0-auc:0.941619\tvalidation_1-auc:0.832072\n",
      "[301]\tvalidation_0-auc:0.941716\tvalidation_1-auc:0.83217\n",
      "[302]\tvalidation_0-auc:0.941766\tvalidation_1-auc:0.831757\n",
      "[303]\tvalidation_0-auc:0.941759\tvalidation_1-auc:0.831772\n",
      "[304]\tvalidation_0-auc:0.941725\tvalidation_1-auc:0.832038\n",
      "[305]\tvalidation_0-auc:0.941706\tvalidation_1-auc:0.832305\n",
      "[306]\tvalidation_0-auc:0.941657\tvalidation_1-auc:0.832376\n",
      "[307]\tvalidation_0-auc:0.941642\tvalidation_1-auc:0.832265\n",
      "[308]\tvalidation_0-auc:0.941735\tvalidation_1-auc:0.832212\n",
      "[309]\tvalidation_0-auc:0.941743\tvalidation_1-auc:0.832653\n",
      "[310]\tvalidation_0-auc:0.941859\tvalidation_1-auc:0.832497\n",
      "[311]\tvalidation_0-auc:0.941908\tvalidation_1-auc:0.832129\n",
      "[312]\tvalidation_0-auc:0.94194\tvalidation_1-auc:0.83173\n",
      "[313]\tvalidation_0-auc:0.94194\tvalidation_1-auc:0.831713\n",
      "[314]\tvalidation_0-auc:0.942089\tvalidation_1-auc:0.831713\n",
      "[315]\tvalidation_0-auc:0.942051\tvalidation_1-auc:0.831731\n",
      "[316]\tvalidation_0-auc:0.942099\tvalidation_1-auc:0.831545\n",
      "[317]\tvalidation_0-auc:0.942098\tvalidation_1-auc:0.831478\n",
      "[318]\tvalidation_0-auc:0.942116\tvalidation_1-auc:0.831604\n",
      "[319]\tvalidation_0-auc:0.942211\tvalidation_1-auc:0.831469\n",
      "[320]\tvalidation_0-auc:0.942175\tvalidation_1-auc:0.831511\n",
      "[321]\tvalidation_0-auc:0.942217\tvalidation_1-auc:0.831512\n",
      "[322]\tvalidation_0-auc:0.942258\tvalidation_1-auc:0.831475\n",
      "[323]\tvalidation_0-auc:0.942311\tvalidation_1-auc:0.831566\n",
      "[324]\tvalidation_0-auc:0.94228\tvalidation_1-auc:0.831845\n",
      "[325]\tvalidation_0-auc:0.942282\tvalidation_1-auc:0.831739\n",
      "[326]\tvalidation_0-auc:0.94225\tvalidation_1-auc:0.831796\n",
      "[327]\tvalidation_0-auc:0.942282\tvalidation_1-auc:0.831944\n",
      "[328]\tvalidation_0-auc:0.942307\tvalidation_1-auc:0.831994\n",
      "[329]\tvalidation_0-auc:0.942286\tvalidation_1-auc:0.831759\n",
      "[330]\tvalidation_0-auc:0.942235\tvalidation_1-auc:0.831896\n",
      "[331]\tvalidation_0-auc:0.942259\tvalidation_1-auc:0.832008\n",
      "[332]\tvalidation_0-auc:0.94225\tvalidation_1-auc:0.831991\n",
      "[333]\tvalidation_0-auc:0.942293\tvalidation_1-auc:0.831847\n",
      "[334]\tvalidation_0-auc:0.942312\tvalidation_1-auc:0.831557\n",
      "[335]\tvalidation_0-auc:0.942308\tvalidation_1-auc:0.831506\n",
      "[336]\tvalidation_0-auc:0.942317\tvalidation_1-auc:0.831459\n",
      "[337]\tvalidation_0-auc:0.942453\tvalidation_1-auc:0.831459\n",
      "[338]\tvalidation_0-auc:0.942447\tvalidation_1-auc:0.831492\n",
      "[339]\tvalidation_0-auc:0.942492\tvalidation_1-auc:0.831236\n",
      "[340]\tvalidation_0-auc:0.942514\tvalidation_1-auc:0.83127\n",
      "[341]\tvalidation_0-auc:0.942603\tvalidation_1-auc:0.831152\n",
      "[342]\tvalidation_0-auc:0.942581\tvalidation_1-auc:0.831475\n",
      "[343]\tvalidation_0-auc:0.94262\tvalidation_1-auc:0.831371\n",
      "[344]\tvalidation_0-auc:0.942624\tvalidation_1-auc:0.831265\n",
      "[345]\tvalidation_0-auc:0.942656\tvalidation_1-auc:0.83123\n",
      "[346]\tvalidation_0-auc:0.942652\tvalidation_1-auc:0.831326\n",
      "[347]\tvalidation_0-auc:0.942674\tvalidation_1-auc:0.831194\n",
      "[348]\tvalidation_0-auc:0.942754\tvalidation_1-auc:0.831182\n",
      "[349]\tvalidation_0-auc:0.94284\tvalidation_1-auc:0.831051\n",
      "[350]\tvalidation_0-auc:0.942861\tvalidation_1-auc:0.830892\n",
      "[351]\tvalidation_0-auc:0.942915\tvalidation_1-auc:0.830816\n",
      "[352]\tvalidation_0-auc:0.942931\tvalidation_1-auc:0.830907\n",
      "[353]\tvalidation_0-auc:0.942975\tvalidation_1-auc:0.83083\n",
      "[354]\tvalidation_0-auc:0.943004\tvalidation_1-auc:0.830872\n",
      "[355]\tvalidation_0-auc:0.942963\tvalidation_1-auc:0.83071\n",
      "[356]\tvalidation_0-auc:0.942991\tvalidation_1-auc:0.830714\n",
      "[357]\tvalidation_0-auc:0.943019\tvalidation_1-auc:0.830563\n",
      "[358]\tvalidation_0-auc:0.943022\tvalidation_1-auc:0.830525\n",
      "[359]\tvalidation_0-auc:0.943043\tvalidation_1-auc:0.830564\n",
      "[360]\tvalidation_0-auc:0.943063\tvalidation_1-auc:0.830772\n",
      "[361]\tvalidation_0-auc:0.943084\tvalidation_1-auc:0.83073\n",
      "[362]\tvalidation_0-auc:0.943116\tvalidation_1-auc:0.830732\n",
      "[363]\tvalidation_0-auc:0.943162\tvalidation_1-auc:0.830736\n",
      "[364]\tvalidation_0-auc:0.943285\tvalidation_1-auc:0.830736\n",
      "[365]\tvalidation_0-auc:0.943284\tvalidation_1-auc:0.830534\n",
      "[366]\tvalidation_0-auc:0.943327\tvalidation_1-auc:0.830973\n",
      "[367]\tvalidation_0-auc:0.943347\tvalidation_1-auc:0.831017\n",
      "[368]\tvalidation_0-auc:0.943341\tvalidation_1-auc:0.830908\n",
      "[369]\tvalidation_0-auc:0.943342\tvalidation_1-auc:0.831003\n",
      "[370]\tvalidation_0-auc:0.943374\tvalidation_1-auc:0.831147\n",
      "[371]\tvalidation_0-auc:0.943385\tvalidation_1-auc:0.831375\n",
      "[372]\tvalidation_0-auc:0.943363\tvalidation_1-auc:0.831594\n",
      "[373]\tvalidation_0-auc:0.943396\tvalidation_1-auc:0.831923\n",
      "[374]\tvalidation_0-auc:0.943465\tvalidation_1-auc:0.831717\n",
      "[375]\tvalidation_0-auc:0.943537\tvalidation_1-auc:0.831674\n",
      "[376]\tvalidation_0-auc:0.943537\tvalidation_1-auc:0.831661\n",
      "[377]\tvalidation_0-auc:0.943548\tvalidation_1-auc:0.831693\n",
      "[378]\tvalidation_0-auc:0.943562\tvalidation_1-auc:0.831675\n",
      "[379]\tvalidation_0-auc:0.943563\tvalidation_1-auc:0.831712\n",
      "[380]\tvalidation_0-auc:0.943575\tvalidation_1-auc:0.831613\n",
      "[381]\tvalidation_0-auc:0.943612\tvalidation_1-auc:0.831624\n",
      "[382]\tvalidation_0-auc:0.943621\tvalidation_1-auc:0.831847\n",
      "[383]\tvalidation_0-auc:0.943647\tvalidation_1-auc:0.83198\n",
      "[384]\tvalidation_0-auc:0.94366\tvalidation_1-auc:0.831893\n",
      "[385]\tvalidation_0-auc:0.943665\tvalidation_1-auc:0.831828\n",
      "[386]\tvalidation_0-auc:0.943686\tvalidation_1-auc:0.831787\n",
      "[387]\tvalidation_0-auc:0.943718\tvalidation_1-auc:0.831737\n",
      "[388]\tvalidation_0-auc:0.943736\tvalidation_1-auc:0.831491\n",
      "[389]\tvalidation_0-auc:0.943744\tvalidation_1-auc:0.831647\n",
      "[390]\tvalidation_0-auc:0.943762\tvalidation_1-auc:0.831653\n",
      "[391]\tvalidation_0-auc:0.943775\tvalidation_1-auc:0.831561\n",
      "[392]\tvalidation_0-auc:0.943813\tvalidation_1-auc:0.831564\n",
      "[393]\tvalidation_0-auc:0.943868\tvalidation_1-auc:0.831554\n",
      "[394]\tvalidation_0-auc:0.943896\tvalidation_1-auc:0.831485\n",
      "[395]\tvalidation_0-auc:0.94391\tvalidation_1-auc:0.831613\n",
      "[396]\tvalidation_0-auc:0.943945\tvalidation_1-auc:0.831835\n",
      "[397]\tvalidation_0-auc:0.943921\tvalidation_1-auc:0.831884\n",
      "[398]\tvalidation_0-auc:0.943972\tvalidation_1-auc:0.831784\n",
      "[399]\tvalidation_0-auc:0.943979\tvalidation_1-auc:0.831743\n",
      "[400]\tvalidation_0-auc:0.944013\tvalidation_1-auc:0.831779\n",
      "[401]\tvalidation_0-auc:0.944022\tvalidation_1-auc:0.831753\n",
      "[402]\tvalidation_0-auc:0.944041\tvalidation_1-auc:0.831709\n",
      "[403]\tvalidation_0-auc:0.944067\tvalidation_1-auc:0.831713\n",
      "[404]\tvalidation_0-auc:0.94413\tvalidation_1-auc:0.831713\n",
      "[405]\tvalidation_0-auc:0.944152\tvalidation_1-auc:0.831608\n",
      "[406]\tvalidation_0-auc:0.944272\tvalidation_1-auc:0.831608\n",
      "[407]\tvalidation_0-auc:0.944274\tvalidation_1-auc:0.831806\n",
      "[408]\tvalidation_0-auc:0.94429\tvalidation_1-auc:0.831832\n",
      "[409]\tvalidation_0-auc:0.944266\tvalidation_1-auc:0.831862\n",
      "[410]\tvalidation_0-auc:0.944278\tvalidation_1-auc:0.831789\n",
      "[411]\tvalidation_0-auc:0.94433\tvalidation_1-auc:0.83193\n",
      "[412]\tvalidation_0-auc:0.944453\tvalidation_1-auc:0.831931\n",
      "[413]\tvalidation_0-auc:0.944448\tvalidation_1-auc:0.832098\n",
      "[414]\tvalidation_0-auc:0.944487\tvalidation_1-auc:0.832098\n",
      "[415]\tvalidation_0-auc:0.944541\tvalidation_1-auc:0.832098\n",
      "[416]\tvalidation_0-auc:0.944549\tvalidation_1-auc:0.832013\n",
      "[417]\tvalidation_0-auc:0.944577\tvalidation_1-auc:0.83204\n",
      "[418]\tvalidation_0-auc:0.944662\tvalidation_1-auc:0.832148\n",
      "[419]\tvalidation_0-auc:0.944652\tvalidation_1-auc:0.832083\n",
      "[420]\tvalidation_0-auc:0.944662\tvalidation_1-auc:0.832193\n",
      "[421]\tvalidation_0-auc:0.944644\tvalidation_1-auc:0.832271\n",
      "[422]\tvalidation_0-auc:0.94462\tvalidation_1-auc:0.83246\n",
      "[423]\tvalidation_0-auc:0.94462\tvalidation_1-auc:0.832565\n",
      "[424]\tvalidation_0-auc:0.944643\tvalidation_1-auc:0.832545\n"
     ]
    },
    {
     "name": "stdout",
     "output_type": "stream",
     "text": [
      "[425]\tvalidation_0-auc:0.944663\tvalidation_1-auc:0.832659\n",
      "[426]\tvalidation_0-auc:0.944692\tvalidation_1-auc:0.832779\n",
      "[427]\tvalidation_0-auc:0.944724\tvalidation_1-auc:0.832655\n",
      "[428]\tvalidation_0-auc:0.944743\tvalidation_1-auc:0.832575\n",
      "[429]\tvalidation_0-auc:0.944772\tvalidation_1-auc:0.832581\n",
      "[430]\tvalidation_0-auc:0.944804\tvalidation_1-auc:0.832583\n",
      "[431]\tvalidation_0-auc:0.94481\tvalidation_1-auc:0.832514\n",
      "[432]\tvalidation_0-auc:0.944819\tvalidation_1-auc:0.832295\n",
      "[433]\tvalidation_0-auc:0.944829\tvalidation_1-auc:0.83232\n",
      "[434]\tvalidation_0-auc:0.944828\tvalidation_1-auc:0.832313\n",
      "[435]\tvalidation_0-auc:0.944898\tvalidation_1-auc:0.832035\n",
      "[436]\tvalidation_0-auc:0.944929\tvalidation_1-auc:0.832035\n",
      "[437]\tvalidation_0-auc:0.944972\tvalidation_1-auc:0.832122\n",
      "[438]\tvalidation_0-auc:0.945008\tvalidation_1-auc:0.832233\n",
      "[439]\tvalidation_0-auc:0.94499\tvalidation_1-auc:0.832324\n",
      "[440]\tvalidation_0-auc:0.94499\tvalidation_1-auc:0.832492\n",
      "[441]\tvalidation_0-auc:0.944997\tvalidation_1-auc:0.832525\n",
      "[442]\tvalidation_0-auc:0.945019\tvalidation_1-auc:0.832586\n",
      "[443]\tvalidation_0-auc:0.945047\tvalidation_1-auc:0.832513\n",
      "[444]\tvalidation_0-auc:0.945024\tvalidation_1-auc:0.832647\n",
      "[445]\tvalidation_0-auc:0.94502\tvalidation_1-auc:0.832601\n",
      "[446]\tvalidation_0-auc:0.94504\tvalidation_1-auc:0.832452\n",
      "[447]\tvalidation_0-auc:0.945069\tvalidation_1-auc:0.832747\n",
      "[448]\tvalidation_0-auc:0.945087\tvalidation_1-auc:0.832609\n",
      "[449]\tvalidation_0-auc:0.945118\tvalidation_1-auc:0.832827\n",
      "[450]\tvalidation_0-auc:0.945132\tvalidation_1-auc:0.832832\n",
      "[451]\tvalidation_0-auc:0.945107\tvalidation_1-auc:0.832869\n",
      "[452]\tvalidation_0-auc:0.945125\tvalidation_1-auc:0.833013\n",
      "[453]\tvalidation_0-auc:0.945106\tvalidation_1-auc:0.833062\n",
      "[454]\tvalidation_0-auc:0.945076\tvalidation_1-auc:0.833142\n",
      "[455]\tvalidation_0-auc:0.945145\tvalidation_1-auc:0.833101\n",
      "[456]\tvalidation_0-auc:0.945116\tvalidation_1-auc:0.833175\n",
      "[457]\tvalidation_0-auc:0.945126\tvalidation_1-auc:0.833204\n",
      "[458]\tvalidation_0-auc:0.945107\tvalidation_1-auc:0.833149\n",
      "[459]\tvalidation_0-auc:0.945133\tvalidation_1-auc:0.833043\n",
      "[460]\tvalidation_0-auc:0.945194\tvalidation_1-auc:0.832988\n",
      "[461]\tvalidation_0-auc:0.945211\tvalidation_1-auc:0.833115\n",
      "[462]\tvalidation_0-auc:0.945218\tvalidation_1-auc:0.833081\n",
      "[463]\tvalidation_0-auc:0.945225\tvalidation_1-auc:0.833078\n",
      "[464]\tvalidation_0-auc:0.945195\tvalidation_1-auc:0.833141\n",
      "[465]\tvalidation_0-auc:0.945209\tvalidation_1-auc:0.833163\n",
      "[466]\tvalidation_0-auc:0.945182\tvalidation_1-auc:0.833281\n",
      "[467]\tvalidation_0-auc:0.945224\tvalidation_1-auc:0.833198\n",
      "[468]\tvalidation_0-auc:0.945216\tvalidation_1-auc:0.8332\n",
      "[469]\tvalidation_0-auc:0.945227\tvalidation_1-auc:0.833136\n",
      "[470]\tvalidation_0-auc:0.945292\tvalidation_1-auc:0.833009\n",
      "[471]\tvalidation_0-auc:0.945328\tvalidation_1-auc:0.833084\n",
      "[472]\tvalidation_0-auc:0.945353\tvalidation_1-auc:0.832989\n",
      "[473]\tvalidation_0-auc:0.945405\tvalidation_1-auc:0.832933\n",
      "[474]\tvalidation_0-auc:0.945418\tvalidation_1-auc:0.832917\n",
      "[475]\tvalidation_0-auc:0.945431\tvalidation_1-auc:0.832933\n",
      "[476]\tvalidation_0-auc:0.945449\tvalidation_1-auc:0.832946\n",
      "[477]\tvalidation_0-auc:0.945505\tvalidation_1-auc:0.832946\n",
      "[478]\tvalidation_0-auc:0.945475\tvalidation_1-auc:0.83305\n",
      "[479]\tvalidation_0-auc:0.945582\tvalidation_1-auc:0.833014\n",
      "[480]\tvalidation_0-auc:0.945593\tvalidation_1-auc:0.832998\n",
      "[481]\tvalidation_0-auc:0.945698\tvalidation_1-auc:0.832998\n",
      "[482]\tvalidation_0-auc:0.945683\tvalidation_1-auc:0.833042\n",
      "[483]\tvalidation_0-auc:0.945695\tvalidation_1-auc:0.833018\n",
      "[484]\tvalidation_0-auc:0.945719\tvalidation_1-auc:0.83309\n",
      "[485]\tvalidation_0-auc:0.945754\tvalidation_1-auc:0.833027\n",
      "[486]\tvalidation_0-auc:0.945754\tvalidation_1-auc:0.832997\n",
      "[487]\tvalidation_0-auc:0.945725\tvalidation_1-auc:0.833084\n",
      "[488]\tvalidation_0-auc:0.945756\tvalidation_1-auc:0.833043\n",
      "[489]\tvalidation_0-auc:0.945786\tvalidation_1-auc:0.83304\n",
      "[490]\tvalidation_0-auc:0.945819\tvalidation_1-auc:0.833066\n",
      "[491]\tvalidation_0-auc:0.945857\tvalidation_1-auc:0.833152\n",
      "[492]\tvalidation_0-auc:0.945918\tvalidation_1-auc:0.833145\n",
      "[493]\tvalidation_0-auc:0.945936\tvalidation_1-auc:0.833206\n",
      "[494]\tvalidation_0-auc:0.946021\tvalidation_1-auc:0.833192\n",
      "[495]\tvalidation_0-auc:0.94615\tvalidation_1-auc:0.832945\n",
      "[496]\tvalidation_0-auc:0.946157\tvalidation_1-auc:0.833046\n",
      "[497]\tvalidation_0-auc:0.946161\tvalidation_1-auc:0.833113\n",
      "[498]\tvalidation_0-auc:0.946197\tvalidation_1-auc:0.833113\n",
      "[499]\tvalidation_0-auc:0.946231\tvalidation_1-auc:0.833033\n",
      "[500]\tvalidation_0-auc:0.946262\tvalidation_1-auc:0.833034\n",
      "[501]\tvalidation_0-auc:0.94631\tvalidation_1-auc:0.832894\n",
      "[502]\tvalidation_0-auc:0.946332\tvalidation_1-auc:0.83294\n",
      "[503]\tvalidation_0-auc:0.946312\tvalidation_1-auc:0.833051\n",
      "[504]\tvalidation_0-auc:0.94634\tvalidation_1-auc:0.833054\n",
      "[505]\tvalidation_0-auc:0.94637\tvalidation_1-auc:0.833058\n",
      "[506]\tvalidation_0-auc:0.946423\tvalidation_1-auc:0.833058\n",
      "[507]\tvalidation_0-auc:0.946485\tvalidation_1-auc:0.832937\n",
      "[508]\tvalidation_0-auc:0.946531\tvalidation_1-auc:0.832904\n",
      "[509]\tvalidation_0-auc:0.946513\tvalidation_1-auc:0.832933\n",
      "[510]\tvalidation_0-auc:0.946503\tvalidation_1-auc:0.832976\n",
      "[511]\tvalidation_0-auc:0.946522\tvalidation_1-auc:0.832969\n",
      "[512]\tvalidation_0-auc:0.946597\tvalidation_1-auc:0.833036\n",
      "[513]\tvalidation_0-auc:0.946597\tvalidation_1-auc:0.833118\n",
      "[514]\tvalidation_0-auc:0.94663\tvalidation_1-auc:0.833218\n",
      "[515]\tvalidation_0-auc:0.946629\tvalidation_1-auc:0.833308\n",
      "[516]\tvalidation_0-auc:0.946659\tvalidation_1-auc:0.833328\n",
      "[517]\tvalidation_0-auc:0.94667\tvalidation_1-auc:0.833295\n",
      "[518]\tvalidation_0-auc:0.946678\tvalidation_1-auc:0.833261\n",
      "[519]\tvalidation_0-auc:0.946689\tvalidation_1-auc:0.833274\n",
      "[520]\tvalidation_0-auc:0.946698\tvalidation_1-auc:0.833288\n",
      "[521]\tvalidation_0-auc:0.946683\tvalidation_1-auc:0.833288\n",
      "[522]\tvalidation_0-auc:0.94672\tvalidation_1-auc:0.833253\n",
      "[523]\tvalidation_0-auc:0.946754\tvalidation_1-auc:0.833437\n",
      "[524]\tvalidation_0-auc:0.946806\tvalidation_1-auc:0.833437\n",
      "[525]\tvalidation_0-auc:0.946816\tvalidation_1-auc:0.833305\n",
      "[526]\tvalidation_0-auc:0.946872\tvalidation_1-auc:0.833214\n",
      "[527]\tvalidation_0-auc:0.946894\tvalidation_1-auc:0.833261\n",
      "[528]\tvalidation_0-auc:0.946939\tvalidation_1-auc:0.833317\n",
      "[529]\tvalidation_0-auc:0.946922\tvalidation_1-auc:0.833364\n",
      "[530]\tvalidation_0-auc:0.946939\tvalidation_1-auc:0.833324\n",
      "[531]\tvalidation_0-auc:0.946943\tvalidation_1-auc:0.833404\n",
      "[532]\tvalidation_0-auc:0.946962\tvalidation_1-auc:0.833538\n",
      "[533]\tvalidation_0-auc:0.946997\tvalidation_1-auc:0.833508\n",
      "[534]\tvalidation_0-auc:0.947033\tvalidation_1-auc:0.833526\n",
      "[535]\tvalidation_0-auc:0.947067\tvalidation_1-auc:0.833512\n",
      "[536]\tvalidation_0-auc:0.947118\tvalidation_1-auc:0.833512\n",
      "[537]\tvalidation_0-auc:0.947148\tvalidation_1-auc:0.83353\n",
      "[538]\tvalidation_0-auc:0.947188\tvalidation_1-auc:0.83353\n",
      "[539]\tvalidation_0-auc:0.947162\tvalidation_1-auc:0.833654\n",
      "[540]\tvalidation_0-auc:0.947138\tvalidation_1-auc:0.833719\n",
      "[541]\tvalidation_0-auc:0.947166\tvalidation_1-auc:0.833719\n",
      "[542]\tvalidation_0-auc:0.947185\tvalidation_1-auc:0.833742\n",
      "[543]\tvalidation_0-auc:0.947186\tvalidation_1-auc:0.833721\n",
      "[544]\tvalidation_0-auc:0.947223\tvalidation_1-auc:0.833697\n",
      "[545]\tvalidation_0-auc:0.947248\tvalidation_1-auc:0.833714\n",
      "[546]\tvalidation_0-auc:0.947274\tvalidation_1-auc:0.833676\n",
      "[547]\tvalidation_0-auc:0.947289\tvalidation_1-auc:0.833691\n",
      "[548]\tvalidation_0-auc:0.947282\tvalidation_1-auc:0.833812\n",
      "[549]\tvalidation_0-auc:0.947316\tvalidation_1-auc:0.833812\n",
      "[550]\tvalidation_0-auc:0.94743\tvalidation_1-auc:0.83376\n",
      "[551]\tvalidation_0-auc:0.947434\tvalidation_1-auc:0.833774\n",
      "[552]\tvalidation_0-auc:0.947445\tvalidation_1-auc:0.833787\n",
      "[553]\tvalidation_0-auc:0.947464\tvalidation_1-auc:0.833786\n",
      "[554]\tvalidation_0-auc:0.947464\tvalidation_1-auc:0.833764\n",
      "[555]\tvalidation_0-auc:0.947471\tvalidation_1-auc:0.833771\n",
      "[556]\tvalidation_0-auc:0.947506\tvalidation_1-auc:0.833756\n",
      "[557]\tvalidation_0-auc:0.947543\tvalidation_1-auc:0.833756\n",
      "[558]\tvalidation_0-auc:0.947552\tvalidation_1-auc:0.833711\n",
      "[559]\tvalidation_0-auc:0.947536\tvalidation_1-auc:0.833774\n",
      "[560]\tvalidation_0-auc:0.94755\tvalidation_1-auc:0.833758\n",
      "[561]\tvalidation_0-auc:0.947592\tvalidation_1-auc:0.833628\n",
      "[562]\tvalidation_0-auc:0.947661\tvalidation_1-auc:0.833594\n",
      "[563]\tvalidation_0-auc:0.947703\tvalidation_1-auc:0.833706\n",
      "[564]\tvalidation_0-auc:0.947757\tvalidation_1-auc:0.83365\n",
      "[565]\tvalidation_0-auc:0.947776\tvalidation_1-auc:0.833684\n",
      "[566]\tvalidation_0-auc:0.947797\tvalidation_1-auc:0.833712\n"
     ]
    },
    {
     "name": "stdout",
     "output_type": "stream",
     "text": [
      "[567]\tvalidation_0-auc:0.947801\tvalidation_1-auc:0.833792\n",
      "[568]\tvalidation_0-auc:0.947833\tvalidation_1-auc:0.833782\n",
      "[569]\tvalidation_0-auc:0.947846\tvalidation_1-auc:0.833852\n",
      "[570]\tvalidation_0-auc:0.947951\tvalidation_1-auc:0.83379\n",
      "[571]\tvalidation_0-auc:0.947964\tvalidation_1-auc:0.833838\n",
      "[572]\tvalidation_0-auc:0.947971\tvalidation_1-auc:0.833821\n",
      "[573]\tvalidation_0-auc:0.948035\tvalidation_1-auc:0.833759\n",
      "[574]\tvalidation_0-auc:0.948073\tvalidation_1-auc:0.833749\n",
      "[575]\tvalidation_0-auc:0.948084\tvalidation_1-auc:0.83374\n",
      "[576]\tvalidation_0-auc:0.948064\tvalidation_1-auc:0.833822\n",
      "[577]\tvalidation_0-auc:0.948106\tvalidation_1-auc:0.833784\n",
      "[578]\tvalidation_0-auc:0.948113\tvalidation_1-auc:0.833707\n",
      "[579]\tvalidation_0-auc:0.948097\tvalidation_1-auc:0.833805\n",
      "[580]\tvalidation_0-auc:0.948224\tvalidation_1-auc:0.833529\n",
      "[581]\tvalidation_0-auc:0.948242\tvalidation_1-auc:0.833503\n",
      "[582]\tvalidation_0-auc:0.948251\tvalidation_1-auc:0.833595\n",
      "[583]\tvalidation_0-auc:0.948277\tvalidation_1-auc:0.83365\n",
      "[584]\tvalidation_0-auc:0.948304\tvalidation_1-auc:0.83352\n",
      "[585]\tvalidation_0-auc:0.948284\tvalidation_1-auc:0.833627\n",
      "[586]\tvalidation_0-auc:0.948324\tvalidation_1-auc:0.833572\n",
      "[587]\tvalidation_0-auc:0.948325\tvalidation_1-auc:0.833669\n",
      "[588]\tvalidation_0-auc:0.948372\tvalidation_1-auc:0.833567\n",
      "[589]\tvalidation_0-auc:0.948396\tvalidation_1-auc:0.833577\n",
      "[590]\tvalidation_0-auc:0.948408\tvalidation_1-auc:0.833572\n",
      "[591]\tvalidation_0-auc:0.948512\tvalidation_1-auc:0.833559\n",
      "[592]\tvalidation_0-auc:0.948516\tvalidation_1-auc:0.833473\n",
      "[593]\tvalidation_0-auc:0.948601\tvalidation_1-auc:0.833459\n",
      "[594]\tvalidation_0-auc:0.948633\tvalidation_1-auc:0.833568\n",
      "[595]\tvalidation_0-auc:0.948665\tvalidation_1-auc:0.833579\n",
      "[596]\tvalidation_0-auc:0.948673\tvalidation_1-auc:0.833602\n",
      "[597]\tvalidation_0-auc:0.948718\tvalidation_1-auc:0.833525\n",
      "[598]\tvalidation_0-auc:0.948711\tvalidation_1-auc:0.833596\n",
      "[599]\tvalidation_0-auc:0.948719\tvalidation_1-auc:0.833568\n",
      "[600]\tvalidation_0-auc:0.948705\tvalidation_1-auc:0.83356\n",
      "[601]\tvalidation_0-auc:0.948714\tvalidation_1-auc:0.833571\n",
      "[602]\tvalidation_0-auc:0.948723\tvalidation_1-auc:0.833582\n",
      "[603]\tvalidation_0-auc:0.948728\tvalidation_1-auc:0.833558\n",
      "[604]\tvalidation_0-auc:0.948758\tvalidation_1-auc:0.833577\n",
      "[605]\tvalidation_0-auc:0.948791\tvalidation_1-auc:0.833653\n",
      "[606]\tvalidation_0-auc:0.948816\tvalidation_1-auc:0.833666\n",
      "[607]\tvalidation_0-auc:0.948798\tvalidation_1-auc:0.833696\n",
      "[608]\tvalidation_0-auc:0.948808\tvalidation_1-auc:0.833735\n",
      "[609]\tvalidation_0-auc:0.948812\tvalidation_1-auc:0.83369\n",
      "[610]\tvalidation_0-auc:0.948848\tvalidation_1-auc:0.833778\n",
      "[611]\tvalidation_0-auc:0.948892\tvalidation_1-auc:0.833836\n",
      "[612]\tvalidation_0-auc:0.948875\tvalidation_1-auc:0.833845\n",
      "[613]\tvalidation_0-auc:0.948975\tvalidation_1-auc:0.833827\n",
      "[614]\tvalidation_0-auc:0.948989\tvalidation_1-auc:0.833842\n",
      "[615]\tvalidation_0-auc:0.949028\tvalidation_1-auc:0.833785\n",
      "[616]\tvalidation_0-auc:0.949035\tvalidation_1-auc:0.833776\n",
      "[617]\tvalidation_0-auc:0.949059\tvalidation_1-auc:0.833791\n",
      "[618]\tvalidation_0-auc:0.949082\tvalidation_1-auc:0.833769\n",
      "[619]\tvalidation_0-auc:0.94909\tvalidation_1-auc:0.83377\n",
      "[620]\tvalidation_0-auc:0.949118\tvalidation_1-auc:0.833864\n",
      "[621]\tvalidation_0-auc:0.949154\tvalidation_1-auc:0.833865\n",
      "[622]\tvalidation_0-auc:0.94918\tvalidation_1-auc:0.833875\n",
      "[623]\tvalidation_0-auc:0.949199\tvalidation_1-auc:0.833932\n",
      "[624]\tvalidation_0-auc:0.949227\tvalidation_1-auc:0.834058\n",
      "[625]\tvalidation_0-auc:0.949235\tvalidation_1-auc:0.834028\n",
      "[626]\tvalidation_0-auc:0.949266\tvalidation_1-auc:0.834023\n",
      "[627]\tvalidation_0-auc:0.949291\tvalidation_1-auc:0.834047\n",
      "[628]\tvalidation_0-auc:0.9493\tvalidation_1-auc:0.834059\n",
      "[629]\tvalidation_0-auc:0.949307\tvalidation_1-auc:0.834051\n",
      "[630]\tvalidation_0-auc:0.949324\tvalidation_1-auc:0.834073\n",
      "[631]\tvalidation_0-auc:0.949355\tvalidation_1-auc:0.834054\n",
      "[632]\tvalidation_0-auc:0.949351\tvalidation_1-auc:0.83401\n",
      "[633]\tvalidation_0-auc:0.949361\tvalidation_1-auc:0.833955\n",
      "[634]\tvalidation_0-auc:0.94938\tvalidation_1-auc:0.83402\n",
      "[635]\tvalidation_0-auc:0.949365\tvalidation_1-auc:0.834059\n",
      "[636]\tvalidation_0-auc:0.949397\tvalidation_1-auc:0.834045\n",
      "[637]\tvalidation_0-auc:0.949428\tvalidation_1-auc:0.834021\n",
      "[638]\tvalidation_0-auc:0.949438\tvalidation_1-auc:0.834014\n",
      "[639]\tvalidation_0-auc:0.949451\tvalidation_1-auc:0.833951\n",
      "[640]\tvalidation_0-auc:0.949482\tvalidation_1-auc:0.833888\n",
      "[641]\tvalidation_0-auc:0.94952\tvalidation_1-auc:0.833833\n",
      "[642]\tvalidation_0-auc:0.949559\tvalidation_1-auc:0.833901\n",
      "[643]\tvalidation_0-auc:0.949541\tvalidation_1-auc:0.833888\n",
      "[644]\tvalidation_0-auc:0.949556\tvalidation_1-auc:0.833856\n",
      "[645]\tvalidation_0-auc:0.949594\tvalidation_1-auc:0.833856\n",
      "[646]\tvalidation_0-auc:0.949595\tvalidation_1-auc:0.833926\n",
      "[647]\tvalidation_0-auc:0.949589\tvalidation_1-auc:0.833944\n",
      "[648]\tvalidation_0-auc:0.949602\tvalidation_1-auc:0.833915\n",
      "[649]\tvalidation_0-auc:0.949623\tvalidation_1-auc:0.833914\n",
      "[650]\tvalidation_0-auc:0.949646\tvalidation_1-auc:0.833894\n",
      "[651]\tvalidation_0-auc:0.949693\tvalidation_1-auc:0.833881\n",
      "[652]\tvalidation_0-auc:0.949697\tvalidation_1-auc:0.833898\n",
      "[653]\tvalidation_0-auc:0.949733\tvalidation_1-auc:0.833898\n",
      "[654]\tvalidation_0-auc:0.949736\tvalidation_1-auc:0.833892\n",
      "[655]\tvalidation_0-auc:0.949754\tvalidation_1-auc:0.833918\n",
      "Stopping. Best iteration:\n",
      "[5]\tvalidation_0-auc:0.92289\tvalidation_1-auc:0.836866\n",
      "\n"
     ]
    },
    {
     "data": {
      "image/png": "[encoded data removed]",
      "text/plain": [
       "<matplotlib.figure.Figure at 0x1a14618160>"
      ]
     },
     "metadata": {
      "image/png": {
       "height": 263,
       "width": 393
      }
     },
     "output_type": "display_data"
    }
   ],
   "source": [
    "# # plot learning curve\n",
    "# from matplotlib import pyplot\n",
    "\n",
    "# # fit model\n",
    "# model = XGBClassifier(max_depth=4, learning_rate=0.005, n_estimators=1000, silent=True, \\\n",
    "#                       objective='binary:logistic', booster='gbtree', n_jobs=1, nthread=None, \\\n",
    "#                       gamma=0.65, min_child_weight=10, subsample=0.8, colsample_bytree=0.4, \\\n",
    "#                       random_state=2, seed=None, missing=None)\n",
    "\n",
    "# eval_set = [(weighted_X,res_y), (np.array(weighted_X_test),np.array(y_test))]\n",
    "# model.fit(weighted_X,res_y, eval_metric=[\"auc\"], eval_set=eval_set, verbose=True,early_stopping_rounds=650)\n",
    "\n",
    "# # retrieve performance metrics\n",
    "# results = model.evals_result()\n",
    "# epochs = len(results['validation_0']['auc'])\n",
    "# x_axis = range(0, epochs)\n",
    "\n",
    "# # plot auc\n",
    "# fig, ax = pyplot.subplots()\n",
    "# ax.plot(x_axis, results['validation_0']['auc'], label='Train')\n",
    "# ax.plot(x_axis, results['validation_1']['auc'], label='Test')\n",
    "# ax.legend()\n",
    "# pyplot.ylabel('AUC')\n",
    "# pyplot.title('XGBoost AUC')\n",
    "# pyplot.show()\n",
    "\n"
   ]
  },
  {
   "cell_type": "code",
   "execution_count": 24,
   "metadata": {},
   "outputs": [
    {
     "data": {
      "text/plain": [
       "['xgboost_2.pkl']"
      ]
     },
     "execution_count": 24,
     "metadata": {},
     "output_type": "execute_result"
    }
   ],
   "source": [
    "# joblib.dump(model, 'models/xgboost_2.pkl')"
   ]
  },
  {
   "cell_type": "code",
   "execution_count": 25,
   "metadata": {
    "collapsed": true
   },
   "outputs": [],
   "source": [
    "xgb = joblib.load('models/xgboost_2.pkl')"
   ]
  },
  {
   "cell_type": "code",
   "execution_count": 27,
   "metadata": {},
   "outputs": [
    {
     "name": "stdout",
     "output_type": "stream",
     "text": [
      "XGBoost\n",
      "\n",
      "Training Score: 0.872324131360276\n",
      "\n",
      "Test Score: 0.8680444444444444\n"
     ]
    }
   ],
   "source": [
    "print ('XGBoost')\n",
    "print()\n",
    "print ('Training Score: {}'.format(xgb.score(weighted_X,res_y)))   # training score\n",
    "print ()\n",
    "print ('Test Score: {}'.format(xgb.score(np.array(weighted_X_test),y_test)))   # test score"
   ]
  },
  {
   "cell_type": "code",
   "execution_count": 28,
   "metadata": {
    "collapsed": true
   },
   "outputs": [],
   "source": [
    "test_predict = xgb.predict_proba(weighted_test)\n",
    "test_predict = pd.DataFrame(test_predict)[1]\n",
    "\n",
    "submission = pd.DataFrame(np.arange(1, len(test_predict) + 1))\n",
    "submission[1] = test_predict\n",
    "submission = submission.rename({0:'Id',1:'Probability'},axis=1)\n",
    "\n",
    "submission.set_index('Id').to_csv('submissions/submission_xgb_2.csv')"
   ]
  },
  {
   "cell_type": "markdown",
   "metadata": {},
   "source": [
    "<img src=\"https://i.imgur.com/UV98JuJ.png\">"
   ]
  },
  {
   "cell_type": "markdown",
   "metadata": {},
   "source": [
    "Kaggle submission using XGBoost provided a score of <b>0.859874 (Private)</b> and <b>0.853010 (Public)</b>"
   ]
  },
  {
   "cell_type": "code",
   "execution_count": null,
   "metadata": {
    "collapsed": true
   },
   "outputs": [],
   "source": []
  }
 ],
 "metadata": {
  "kernelspec": {
   "display_name": "Python 3",
   "language": "python",
   "name": "python3"
  },
  "language_info": {
   "codemirror_mode": {
    "name": "ipython",
    "version": 3
   },
   "file_extension": ".py",
   "mimetype": "text/x-python",
   "name": "python",
   "nbconvert_exporter": "python",
   "pygments_lexer": "ipython3",
   "version": "3.6.3"
  }
 },
 "nbformat": 4,
 "nbformat_minor": 2
}
